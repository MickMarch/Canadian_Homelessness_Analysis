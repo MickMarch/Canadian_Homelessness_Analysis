{
 "cells": [
  {
   "cell_type": "code",
   "execution_count": 1,
   "metadata": {},
   "outputs": [],
   "source": [
    "# Import our dependencies.\n",
    "from sklearn.model_selection import train_test_split\n",
    "from sklearn.preprocessing import StandardScaler,OneHotEncoder\n",
    "import pandas as pd\n",
    "import tensorflow as tf\n",
    "# Import the kerastuner library\n",
    "import keras_tuner as kt\n",
    "\n",
    "# Python SQL toolkit and Object Relational Mapper\n",
    "import sqlalchemy\n",
    "from sqlalchemy.ext.automap import automap_base\n",
    "from sqlalchemy.orm import Session\n",
    "from sqlalchemy import create_engine, func, inspect\n",
    "import psycopg2\n",
    "\n",
    "import matplotlib.pyplot as plt\n",
    "from sklearn.linear_model import LinearRegression"
   ]
  },
  {
   "cell_type": "code",
   "execution_count": 2,
   "metadata": {},
   "outputs": [],
   "source": [
    "# Pass in password once.  ### Add your passwork here <pw> ###\n",
    "postgresInfo = 'postgresql://postgres:<pw>@localhost/Weather_Crime'"
   ]
  },
  {
   "cell_type": "code",
   "execution_count": 3,
   "metadata": {},
   "outputs": [
    {
     "data": {
      "text/html": [
       "<div>\n",
       "<style scoped>\n",
       "    .dataframe tbody tr th:only-of-type {\n",
       "        vertical-align: middle;\n",
       "    }\n",
       "\n",
       "    .dataframe tbody tr th {\n",
       "        vertical-align: top;\n",
       "    }\n",
       "\n",
       "    .dataframe thead th {\n",
       "        text-align: right;\n",
       "    }\n",
       "</style>\n",
       "<table border=\"1\" class=\"dataframe\">\n",
       "  <thead>\n",
       "    <tr style=\"text-align: right;\">\n",
       "      <th></th>\n",
       "      <th>event_unique_id</th>\n",
       "      <th>crime</th>\n",
       "      <th>occ_year</th>\n",
       "      <th>occ_month</th>\n",
       "      <th>occ_day</th>\n",
       "      <th>occ_dow</th>\n",
       "      <th>occ_hour</th>\n",
       "      <th>premises_type</th>\n",
       "      <th>hood_140</th>\n",
       "      <th>neighbourhood_140</th>\n",
       "      <th>long_wgs84</th>\n",
       "      <th>lat_wgs84</th>\n",
       "      <th>date</th>\n",
       "    </tr>\n",
       "  </thead>\n",
       "  <tbody>\n",
       "    <tr>\n",
       "      <th>0</th>\n",
       "      <td>GO-20155154</td>\n",
       "      <td>assault</td>\n",
       "      <td>2015</td>\n",
       "      <td>January</td>\n",
       "      <td>1</td>\n",
       "      <td>Thursday</td>\n",
       "      <td>23</td>\n",
       "      <td>House</td>\n",
       "      <td>115</td>\n",
       "      <td>Mount Dennis (115)</td>\n",
       "      <td>-79.504668</td>\n",
       "      <td>43.693238</td>\n",
       "      <td>2015-01-01</td>\n",
       "    </tr>\n",
       "    <tr>\n",
       "      <th>1</th>\n",
       "      <td>GO-20151233</td>\n",
       "      <td>assault</td>\n",
       "      <td>2015</td>\n",
       "      <td>January</td>\n",
       "      <td>1</td>\n",
       "      <td>Thursday</td>\n",
       "      <td>3</td>\n",
       "      <td>Commercial</td>\n",
       "      <td>77</td>\n",
       "      <td>Waterfront Communities-The Island (77)</td>\n",
       "      <td>-79.392855</td>\n",
       "      <td>43.647315</td>\n",
       "      <td>2015-01-01</td>\n",
       "    </tr>\n",
       "    <tr>\n",
       "      <th>2</th>\n",
       "      <td>GO-2015862</td>\n",
       "      <td>assault</td>\n",
       "      <td>2015</td>\n",
       "      <td>January</td>\n",
       "      <td>1</td>\n",
       "      <td>Thursday</td>\n",
       "      <td>2</td>\n",
       "      <td>Commercial</td>\n",
       "      <td>77</td>\n",
       "      <td>Waterfront Communities-The Island (77)</td>\n",
       "      <td>-79.387700</td>\n",
       "      <td>43.649776</td>\n",
       "      <td>2015-01-01</td>\n",
       "    </tr>\n",
       "    <tr>\n",
       "      <th>3</th>\n",
       "      <td>GO-2015182</td>\n",
       "      <td>assault</td>\n",
       "      <td>2015</td>\n",
       "      <td>January</td>\n",
       "      <td>1</td>\n",
       "      <td>Thursday</td>\n",
       "      <td>0</td>\n",
       "      <td>Commercial</td>\n",
       "      <td>1</td>\n",
       "      <td>West Humber-Clairville (1)</td>\n",
       "      <td>-79.595562</td>\n",
       "      <td>43.686751</td>\n",
       "      <td>2015-01-01</td>\n",
       "    </tr>\n",
       "    <tr>\n",
       "      <th>4</th>\n",
       "      <td>GO-2015276</td>\n",
       "      <td>assault</td>\n",
       "      <td>2015</td>\n",
       "      <td>January</td>\n",
       "      <td>1</td>\n",
       "      <td>Thursday</td>\n",
       "      <td>0</td>\n",
       "      <td>Outside</td>\n",
       "      <td>77</td>\n",
       "      <td>Waterfront Communities-The Island (77)</td>\n",
       "      <td>-79.400096</td>\n",
       "      <td>43.645835</td>\n",
       "      <td>2015-01-01</td>\n",
       "    </tr>\n",
       "    <tr>\n",
       "      <th>...</th>\n",
       "      <td>...</td>\n",
       "      <td>...</td>\n",
       "      <td>...</td>\n",
       "      <td>...</td>\n",
       "      <td>...</td>\n",
       "      <td>...</td>\n",
       "      <td>...</td>\n",
       "      <td>...</td>\n",
       "      <td>...</td>\n",
       "      <td>...</td>\n",
       "      <td>...</td>\n",
       "      <td>...</td>\n",
       "      <td>...</td>\n",
       "    </tr>\n",
       "    <tr>\n",
       "      <th>166507</th>\n",
       "      <td>GO-20181887731</td>\n",
       "      <td>homicide</td>\n",
       "      <td>2018</td>\n",
       "      <td>October</td>\n",
       "      <td>12</td>\n",
       "      <td>Friday</td>\n",
       "      <td>0</td>\n",
       "      <td>None</td>\n",
       "      <td>75</td>\n",
       "      <td>Church-Yonge Corridor (75)</td>\n",
       "      <td>-79.376699</td>\n",
       "      <td>43.656958</td>\n",
       "      <td>2018-10-12</td>\n",
       "    </tr>\n",
       "    <tr>\n",
       "      <th>166508</th>\n",
       "      <td>GO-20181923388</td>\n",
       "      <td>homicide</td>\n",
       "      <td>2018</td>\n",
       "      <td>October</td>\n",
       "      <td>18</td>\n",
       "      <td>Thursday</td>\n",
       "      <td>0</td>\n",
       "      <td>None</td>\n",
       "      <td>120</td>\n",
       "      <td>Clairlea-Birchmount (120)</td>\n",
       "      <td>-79.286292</td>\n",
       "      <td>43.699070</td>\n",
       "      <td>2018-10-18</td>\n",
       "    </tr>\n",
       "    <tr>\n",
       "      <th>166509</th>\n",
       "      <td>GO-20181939006</td>\n",
       "      <td>homicide</td>\n",
       "      <td>2018</td>\n",
       "      <td>October</td>\n",
       "      <td>20</td>\n",
       "      <td>Saturday</td>\n",
       "      <td>0</td>\n",
       "      <td>None</td>\n",
       "      <td>124</td>\n",
       "      <td>Kennedy Park (124)</td>\n",
       "      <td>-79.264551</td>\n",
       "      <td>43.732765</td>\n",
       "      <td>2018-10-20</td>\n",
       "    </tr>\n",
       "    <tr>\n",
       "      <th>166510</th>\n",
       "      <td>GO-20182113063</td>\n",
       "      <td>homicide</td>\n",
       "      <td>2018</td>\n",
       "      <td>November</td>\n",
       "      <td>16</td>\n",
       "      <td>Friday</td>\n",
       "      <td>0</td>\n",
       "      <td>None</td>\n",
       "      <td>73</td>\n",
       "      <td>Moss Park (73)</td>\n",
       "      <td>-79.369005</td>\n",
       "      <td>43.654614</td>\n",
       "      <td>2018-11-16</td>\n",
       "    </tr>\n",
       "    <tr>\n",
       "      <th>166511</th>\n",
       "      <td>GO-20182242344</td>\n",
       "      <td>homicide</td>\n",
       "      <td>2018</td>\n",
       "      <td>December</td>\n",
       "      <td>6</td>\n",
       "      <td>Thursday</td>\n",
       "      <td>0</td>\n",
       "      <td>None</td>\n",
       "      <td>73</td>\n",
       "      <td>Moss Park (73)</td>\n",
       "      <td>-79.374451</td>\n",
       "      <td>43.660196</td>\n",
       "      <td>2018-12-06</td>\n",
       "    </tr>\n",
       "  </tbody>\n",
       "</table>\n",
       "<p>166512 rows × 13 columns</p>\n",
       "</div>"
      ],
      "text/plain": [
       "       event_unique_id     crime  occ_year occ_month  occ_day   occ_dow  \\\n",
       "0          GO-20155154   assault      2015   January        1  Thursday   \n",
       "1          GO-20151233   assault      2015   January        1  Thursday   \n",
       "2           GO-2015862   assault      2015   January        1  Thursday   \n",
       "3           GO-2015182   assault      2015   January        1  Thursday   \n",
       "4           GO-2015276   assault      2015   January        1  Thursday   \n",
       "...                ...       ...       ...       ...      ...       ...   \n",
       "166507  GO-20181887731  homicide      2018   October       12    Friday   \n",
       "166508  GO-20181923388  homicide      2018   October       18  Thursday   \n",
       "166509  GO-20181939006  homicide      2018   October       20  Saturday   \n",
       "166510  GO-20182113063  homicide      2018  November       16    Friday   \n",
       "166511  GO-20182242344  homicide      2018  December        6  Thursday   \n",
       "\n",
       "        occ_hour premises_type hood_140  \\\n",
       "0             23         House      115   \n",
       "1              3    Commercial       77   \n",
       "2              2    Commercial       77   \n",
       "3              0    Commercial        1   \n",
       "4              0       Outside       77   \n",
       "...          ...           ...      ...   \n",
       "166507         0          None       75   \n",
       "166508         0          None      120   \n",
       "166509         0          None      124   \n",
       "166510         0          None       73   \n",
       "166511         0          None       73   \n",
       "\n",
       "                             neighbourhood_140  long_wgs84  lat_wgs84  \\\n",
       "0                           Mount Dennis (115)  -79.504668  43.693238   \n",
       "1       Waterfront Communities-The Island (77)  -79.392855  43.647315   \n",
       "2       Waterfront Communities-The Island (77)  -79.387700  43.649776   \n",
       "3                   West Humber-Clairville (1)  -79.595562  43.686751   \n",
       "4       Waterfront Communities-The Island (77)  -79.400096  43.645835   \n",
       "...                                        ...         ...        ...   \n",
       "166507              Church-Yonge Corridor (75)  -79.376699  43.656958   \n",
       "166508               Clairlea-Birchmount (120)  -79.286292  43.699070   \n",
       "166509                      Kennedy Park (124)  -79.264551  43.732765   \n",
       "166510                          Moss Park (73)  -79.369005  43.654614   \n",
       "166511                          Moss Park (73)  -79.374451  43.660196   \n",
       "\n",
       "              date  \n",
       "0       2015-01-01  \n",
       "1       2015-01-01  \n",
       "2       2015-01-01  \n",
       "3       2015-01-01  \n",
       "4       2015-01-01  \n",
       "...            ...  \n",
       "166507  2018-10-12  \n",
       "166508  2018-10-18  \n",
       "166509  2018-10-20  \n",
       "166510  2018-11-16  \n",
       "166511  2018-12-06  \n",
       "\n",
       "[166512 rows x 13 columns]"
      ]
     },
     "execution_count": 3,
     "metadata": {},
     "output_type": "execute_result"
    }
   ],
   "source": [
    "## Create table and fill with contents of dataframe  - crime data\n",
    "conn_string = postgresInfo\n",
    "\n",
    "db = create_engine(conn_string)\n",
    "conn = db.connect()\n",
    "\n",
    "conn = psycopg2.connect(conn_string\n",
    "                        )\n",
    "conn.autocommit = True\n",
    "cursor = conn.cursor()\n",
    "\n",
    "crime_df = pd.read_sql_query('''SELECT * FROM all_crime;''', db)\n",
    "\n",
    "crime_df"
   ]
  },
  {
   "cell_type": "code",
   "execution_count": 4,
   "metadata": {},
   "outputs": [
    {
     "data": {
      "text/html": [
       "<div>\n",
       "<style scoped>\n",
       "    .dataframe tbody tr th:only-of-type {\n",
       "        vertical-align: middle;\n",
       "    }\n",
       "\n",
       "    .dataframe tbody tr th {\n",
       "        vertical-align: top;\n",
       "    }\n",
       "\n",
       "    .dataframe thead th {\n",
       "        text-align: right;\n",
       "    }\n",
       "</style>\n",
       "<table border=\"1\" class=\"dataframe\">\n",
       "  <thead>\n",
       "    <tr style=\"text-align: right;\">\n",
       "      <th></th>\n",
       "      <th>date</th>\n",
       "      <th>max_temperature</th>\n",
       "      <th>min_temperature</th>\n",
       "      <th>max_relative_humidity</th>\n",
       "      <th>avg_relative_humidity</th>\n",
       "      <th>avg_pressure_sea</th>\n",
       "      <th>max_wind_speed</th>\n",
       "      <th>precipitation</th>\n",
       "      <th>rain</th>\n",
       "      <th>snow</th>\n",
       "      <th>snow_on_ground</th>\n",
       "      <th>daylight</th>\n",
       "      <th>avg_cloud_cover_8</th>\n",
       "    </tr>\n",
       "  </thead>\n",
       "  <tbody>\n",
       "    <tr>\n",
       "      <th>0</th>\n",
       "      <td>2018-12-31</td>\n",
       "      <td>5.0</td>\n",
       "      <td>-2.5</td>\n",
       "      <td>94</td>\n",
       "      <td>79.5</td>\n",
       "      <td>100.78</td>\n",
       "      <td>21</td>\n",
       "      <td>13.6</td>\n",
       "      <td>13.6</td>\n",
       "      <td>0.0</td>\n",
       "      <td>0.0</td>\n",
       "      <td>8.98</td>\n",
       "      <td>4.5</td>\n",
       "    </tr>\n",
       "    <tr>\n",
       "      <th>1</th>\n",
       "      <td>2018-12-30</td>\n",
       "      <td>0.7</td>\n",
       "      <td>-6.6</td>\n",
       "      <td>88</td>\n",
       "      <td>78.0</td>\n",
       "      <td>102.03</td>\n",
       "      <td>24</td>\n",
       "      <td>1.2</td>\n",
       "      <td>0.0</td>\n",
       "      <td>1.6</td>\n",
       "      <td>2.0</td>\n",
       "      <td>8.97</td>\n",
       "      <td>5.0</td>\n",
       "    </tr>\n",
       "    <tr>\n",
       "      <th>2</th>\n",
       "      <td>2018-12-29</td>\n",
       "      <td>2.7</td>\n",
       "      <td>-7.0</td>\n",
       "      <td>80</td>\n",
       "      <td>68.0</td>\n",
       "      <td>101.86</td>\n",
       "      <td>34</td>\n",
       "      <td>0.0</td>\n",
       "      <td>0.0</td>\n",
       "      <td>0.0</td>\n",
       "      <td>0.0</td>\n",
       "      <td>8.95</td>\n",
       "      <td>4.5</td>\n",
       "    </tr>\n",
       "    <tr>\n",
       "      <th>3</th>\n",
       "      <td>2018-12-28</td>\n",
       "      <td>12.4</td>\n",
       "      <td>2.7</td>\n",
       "      <td>95</td>\n",
       "      <td>84.5</td>\n",
       "      <td>100.89</td>\n",
       "      <td>30</td>\n",
       "      <td>1.8</td>\n",
       "      <td>1.8</td>\n",
       "      <td>0.0</td>\n",
       "      <td>0.0</td>\n",
       "      <td>8.93</td>\n",
       "      <td>4.5</td>\n",
       "    </tr>\n",
       "    <tr>\n",
       "      <th>4</th>\n",
       "      <td>2018-12-27</td>\n",
       "      <td>2.8</td>\n",
       "      <td>-7.4</td>\n",
       "      <td>87</td>\n",
       "      <td>74.0</td>\n",
       "      <td>102.52</td>\n",
       "      <td>30</td>\n",
       "      <td>5.4</td>\n",
       "      <td>5.4</td>\n",
       "      <td>0.0</td>\n",
       "      <td>0.0</td>\n",
       "      <td>8.93</td>\n",
       "      <td>4.0</td>\n",
       "    </tr>\n",
       "    <tr>\n",
       "      <th>...</th>\n",
       "      <td>...</td>\n",
       "      <td>...</td>\n",
       "      <td>...</td>\n",
       "      <td>...</td>\n",
       "      <td>...</td>\n",
       "      <td>...</td>\n",
       "      <td>...</td>\n",
       "      <td>...</td>\n",
       "      <td>...</td>\n",
       "      <td>...</td>\n",
       "      <td>...</td>\n",
       "      <td>...</td>\n",
       "      <td>...</td>\n",
       "    </tr>\n",
       "    <tr>\n",
       "      <th>1456</th>\n",
       "      <td>2015-01-05</td>\n",
       "      <td>-5.8</td>\n",
       "      <td>-14.4</td>\n",
       "      <td>83</td>\n",
       "      <td>69.5</td>\n",
       "      <td>102.38</td>\n",
       "      <td>45</td>\n",
       "      <td>0.8</td>\n",
       "      <td>0.0</td>\n",
       "      <td>0.8</td>\n",
       "      <td>1.0</td>\n",
       "      <td>9.05</td>\n",
       "      <td>3.5</td>\n",
       "    </tr>\n",
       "    <tr>\n",
       "      <th>1457</th>\n",
       "      <td>2015-01-04</td>\n",
       "      <td>4.3</td>\n",
       "      <td>-5.9</td>\n",
       "      <td>98</td>\n",
       "      <td>82.5</td>\n",
       "      <td>100.69</td>\n",
       "      <td>43</td>\n",
       "      <td>6.8</td>\n",
       "      <td>6.4</td>\n",
       "      <td>0.4</td>\n",
       "      <td>0.0</td>\n",
       "      <td>9.02</td>\n",
       "      <td>6.0</td>\n",
       "    </tr>\n",
       "    <tr>\n",
       "      <th>1458</th>\n",
       "      <td>2015-01-03</td>\n",
       "      <td>1.5</td>\n",
       "      <td>-5.8</td>\n",
       "      <td>97</td>\n",
       "      <td>82.5</td>\n",
       "      <td>101.96</td>\n",
       "      <td>29</td>\n",
       "      <td>10.8</td>\n",
       "      <td>8.0</td>\n",
       "      <td>2.4</td>\n",
       "      <td>0.0</td>\n",
       "      <td>9.00</td>\n",
       "      <td>5.0</td>\n",
       "    </tr>\n",
       "    <tr>\n",
       "      <th>1459</th>\n",
       "      <td>2015-01-02</td>\n",
       "      <td>-1.0</td>\n",
       "      <td>-6.1</td>\n",
       "      <td>83</td>\n",
       "      <td>66.0</td>\n",
       "      <td>102.30</td>\n",
       "      <td>36</td>\n",
       "      <td>0.6</td>\n",
       "      <td>0.0</td>\n",
       "      <td>0.4</td>\n",
       "      <td>0.0</td>\n",
       "      <td>9.00</td>\n",
       "      <td>6.0</td>\n",
       "    </tr>\n",
       "    <tr>\n",
       "      <th>1460</th>\n",
       "      <td>2015-01-01</td>\n",
       "      <td>-1.9</td>\n",
       "      <td>-8.1</td>\n",
       "      <td>69</td>\n",
       "      <td>60.0</td>\n",
       "      <td>101.27</td>\n",
       "      <td>36</td>\n",
       "      <td>0.0</td>\n",
       "      <td>0.0</td>\n",
       "      <td>0.0</td>\n",
       "      <td>0.0</td>\n",
       "      <td>9.00</td>\n",
       "      <td>4.5</td>\n",
       "    </tr>\n",
       "  </tbody>\n",
       "</table>\n",
       "<p>1461 rows × 13 columns</p>\n",
       "</div>"
      ],
      "text/plain": [
       "            date  max_temperature  min_temperature  max_relative_humidity  \\\n",
       "0     2018-12-31              5.0             -2.5                     94   \n",
       "1     2018-12-30              0.7             -6.6                     88   \n",
       "2     2018-12-29              2.7             -7.0                     80   \n",
       "3     2018-12-28             12.4              2.7                     95   \n",
       "4     2018-12-27              2.8             -7.4                     87   \n",
       "...          ...              ...              ...                    ...   \n",
       "1456  2015-01-05             -5.8            -14.4                     83   \n",
       "1457  2015-01-04              4.3             -5.9                     98   \n",
       "1458  2015-01-03              1.5             -5.8                     97   \n",
       "1459  2015-01-02             -1.0             -6.1                     83   \n",
       "1460  2015-01-01             -1.9             -8.1                     69   \n",
       "\n",
       "      avg_relative_humidity  avg_pressure_sea  max_wind_speed  precipitation  \\\n",
       "0                      79.5            100.78              21           13.6   \n",
       "1                      78.0            102.03              24            1.2   \n",
       "2                      68.0            101.86              34            0.0   \n",
       "3                      84.5            100.89              30            1.8   \n",
       "4                      74.0            102.52              30            5.4   \n",
       "...                     ...               ...             ...            ...   \n",
       "1456                   69.5            102.38              45            0.8   \n",
       "1457                   82.5            100.69              43            6.8   \n",
       "1458                   82.5            101.96              29           10.8   \n",
       "1459                   66.0            102.30              36            0.6   \n",
       "1460                   60.0            101.27              36            0.0   \n",
       "\n",
       "      rain  snow  snow_on_ground  daylight  avg_cloud_cover_8  \n",
       "0     13.6   0.0             0.0      8.98                4.5  \n",
       "1      0.0   1.6             2.0      8.97                5.0  \n",
       "2      0.0   0.0             0.0      8.95                4.5  \n",
       "3      1.8   0.0             0.0      8.93                4.5  \n",
       "4      5.4   0.0             0.0      8.93                4.0  \n",
       "...    ...   ...             ...       ...                ...  \n",
       "1456   0.0   0.8             1.0      9.05                3.5  \n",
       "1457   6.4   0.4             0.0      9.02                6.0  \n",
       "1458   8.0   2.4             0.0      9.00                5.0  \n",
       "1459   0.0   0.4             0.0      9.00                6.0  \n",
       "1460   0.0   0.0             0.0      9.00                4.5  \n",
       "\n",
       "[1461 rows x 13 columns]"
      ]
     },
     "execution_count": 4,
     "metadata": {},
     "output_type": "execute_result"
    }
   ],
   "source": [
    "## Create table and fill with contents of dataframe  - weather data\n",
    "conn_string = postgresInfo\n",
    "\n",
    "db = create_engine(conn_string)\n",
    "conn = db.connect()\n",
    "\n",
    "conn = psycopg2.connect(conn_string\n",
    "                        )\n",
    "conn.autocommit = True\n",
    "cursor = conn.cursor()\n",
    "\n",
    "weather_df = pd.read_sql_query('''SELECT * FROM weather;''', db)\n",
    "\n",
    "weather_df"
   ]
  },
  {
   "cell_type": "code",
   "execution_count": 5,
   "metadata": {},
   "outputs": [],
   "source": [
    "#Closing the connection\n",
    "conn.close()"
   ]
  },
  {
   "cell_type": "code",
   "execution_count": 6,
   "metadata": {},
   "outputs": [
    {
     "data": {
      "text/html": [
       "<div>\n",
       "<style scoped>\n",
       "    .dataframe tbody tr th:only-of-type {\n",
       "        vertical-align: middle;\n",
       "    }\n",
       "\n",
       "    .dataframe tbody tr th {\n",
       "        vertical-align: top;\n",
       "    }\n",
       "\n",
       "    .dataframe thead th {\n",
       "        text-align: right;\n",
       "    }\n",
       "</style>\n",
       "<table border=\"1\" class=\"dataframe\">\n",
       "  <thead>\n",
       "    <tr style=\"text-align: right;\">\n",
       "      <th></th>\n",
       "      <th>crime</th>\n",
       "      <th>assault</th>\n",
       "      <th>auto_theft</th>\n",
       "      <th>bicycle_theft</th>\n",
       "      <th>break_and_enter</th>\n",
       "      <th>homicide</th>\n",
       "      <th>robbery</th>\n",
       "      <th>shooting</th>\n",
       "      <th>theft_from_motor_vehicle</th>\n",
       "      <th>theft_over</th>\n",
       "    </tr>\n",
       "    <tr>\n",
       "      <th>date</th>\n",
       "      <th>occ_dow</th>\n",
       "      <th></th>\n",
       "      <th></th>\n",
       "      <th></th>\n",
       "      <th></th>\n",
       "      <th></th>\n",
       "      <th></th>\n",
       "      <th></th>\n",
       "      <th></th>\n",
       "      <th></th>\n",
       "    </tr>\n",
       "  </thead>\n",
       "  <tbody>\n",
       "    <tr>\n",
       "      <th>2015-01-01</th>\n",
       "      <th>Thursday</th>\n",
       "      <td>158</td>\n",
       "      <td>7</td>\n",
       "      <td>5</td>\n",
       "      <td>21</td>\n",
       "      <td>0</td>\n",
       "      <td>8</td>\n",
       "      <td>0</td>\n",
       "      <td>34</td>\n",
       "      <td>5</td>\n",
       "    </tr>\n",
       "    <tr>\n",
       "      <th>2015-01-02</th>\n",
       "      <th>Friday</th>\n",
       "      <td>34</td>\n",
       "      <td>9</td>\n",
       "      <td>4</td>\n",
       "      <td>18</td>\n",
       "      <td>0</td>\n",
       "      <td>6</td>\n",
       "      <td>0</td>\n",
       "      <td>34</td>\n",
       "      <td>2</td>\n",
       "    </tr>\n",
       "    <tr>\n",
       "      <th>2015-01-03</th>\n",
       "      <th>Saturday</th>\n",
       "      <td>37</td>\n",
       "      <td>10</td>\n",
       "      <td>0</td>\n",
       "      <td>4</td>\n",
       "      <td>0</td>\n",
       "      <td>8</td>\n",
       "      <td>0</td>\n",
       "      <td>21</td>\n",
       "      <td>3</td>\n",
       "    </tr>\n",
       "    <tr>\n",
       "      <th>2015-01-04</th>\n",
       "      <th>Sunday</th>\n",
       "      <td>44</td>\n",
       "      <td>5</td>\n",
       "      <td>1</td>\n",
       "      <td>11</td>\n",
       "      <td>0</td>\n",
       "      <td>5</td>\n",
       "      <td>0</td>\n",
       "      <td>33</td>\n",
       "      <td>1</td>\n",
       "    </tr>\n",
       "    <tr>\n",
       "      <th>2015-01-05</th>\n",
       "      <th>Monday</th>\n",
       "      <td>39</td>\n",
       "      <td>6</td>\n",
       "      <td>1</td>\n",
       "      <td>24</td>\n",
       "      <td>0</td>\n",
       "      <td>5</td>\n",
       "      <td>1</td>\n",
       "      <td>31</td>\n",
       "      <td>2</td>\n",
       "    </tr>\n",
       "    <tr>\n",
       "      <th>...</th>\n",
       "      <th>...</th>\n",
       "      <td>...</td>\n",
       "      <td>...</td>\n",
       "      <td>...</td>\n",
       "      <td>...</td>\n",
       "      <td>...</td>\n",
       "      <td>...</td>\n",
       "      <td>...</td>\n",
       "      <td>...</td>\n",
       "      <td>...</td>\n",
       "    </tr>\n",
       "    <tr>\n",
       "      <th>2018-12-27</th>\n",
       "      <th>Thursday</th>\n",
       "      <td>38</td>\n",
       "      <td>7</td>\n",
       "      <td>2</td>\n",
       "      <td>21</td>\n",
       "      <td>0</td>\n",
       "      <td>7</td>\n",
       "      <td>0</td>\n",
       "      <td>30</td>\n",
       "      <td>1</td>\n",
       "    </tr>\n",
       "    <tr>\n",
       "      <th>2018-12-28</th>\n",
       "      <th>Friday</th>\n",
       "      <td>35</td>\n",
       "      <td>13</td>\n",
       "      <td>2</td>\n",
       "      <td>21</td>\n",
       "      <td>0</td>\n",
       "      <td>12</td>\n",
       "      <td>0</td>\n",
       "      <td>31</td>\n",
       "      <td>1</td>\n",
       "    </tr>\n",
       "    <tr>\n",
       "      <th>2018-12-29</th>\n",
       "      <th>Saturday</th>\n",
       "      <td>37</td>\n",
       "      <td>10</td>\n",
       "      <td>3</td>\n",
       "      <td>26</td>\n",
       "      <td>0</td>\n",
       "      <td>7</td>\n",
       "      <td>0</td>\n",
       "      <td>21</td>\n",
       "      <td>4</td>\n",
       "    </tr>\n",
       "    <tr>\n",
       "      <th>2018-12-30</th>\n",
       "      <th>Sunday</th>\n",
       "      <td>43</td>\n",
       "      <td>8</td>\n",
       "      <td>3</td>\n",
       "      <td>22</td>\n",
       "      <td>0</td>\n",
       "      <td>7</td>\n",
       "      <td>0</td>\n",
       "      <td>22</td>\n",
       "      <td>3</td>\n",
       "    </tr>\n",
       "    <tr>\n",
       "      <th>2018-12-31</th>\n",
       "      <th>Monday</th>\n",
       "      <td>38</td>\n",
       "      <td>14</td>\n",
       "      <td>2</td>\n",
       "      <td>20</td>\n",
       "      <td>0</td>\n",
       "      <td>11</td>\n",
       "      <td>0</td>\n",
       "      <td>23</td>\n",
       "      <td>4</td>\n",
       "    </tr>\n",
       "  </tbody>\n",
       "</table>\n",
       "<p>1461 rows × 9 columns</p>\n",
       "</div>"
      ],
      "text/plain": [
       "crime                assault  auto_theft  bicycle_theft  break_and_enter  \\\n",
       "date       occ_dow                                                         \n",
       "2015-01-01 Thursday      158           7              5               21   \n",
       "2015-01-02 Friday         34           9              4               18   \n",
       "2015-01-03 Saturday       37          10              0                4   \n",
       "2015-01-04 Sunday         44           5              1               11   \n",
       "2015-01-05 Monday         39           6              1               24   \n",
       "...                      ...         ...            ...              ...   \n",
       "2018-12-27 Thursday       38           7              2               21   \n",
       "2018-12-28 Friday         35          13              2               21   \n",
       "2018-12-29 Saturday       37          10              3               26   \n",
       "2018-12-30 Sunday         43           8              3               22   \n",
       "2018-12-31 Monday         38          14              2               20   \n",
       "\n",
       "crime                homicide  robbery  shooting  theft_from_motor_vehicle  \\\n",
       "date       occ_dow                                                           \n",
       "2015-01-01 Thursday         0        8         0                        34   \n",
       "2015-01-02 Friday           0        6         0                        34   \n",
       "2015-01-03 Saturday         0        8         0                        21   \n",
       "2015-01-04 Sunday           0        5         0                        33   \n",
       "2015-01-05 Monday           0        5         1                        31   \n",
       "...                       ...      ...       ...                       ...   \n",
       "2018-12-27 Thursday         0        7         0                        30   \n",
       "2018-12-28 Friday           0       12         0                        31   \n",
       "2018-12-29 Saturday         0        7         0                        21   \n",
       "2018-12-30 Sunday           0        7         0                        22   \n",
       "2018-12-31 Monday           0       11         0                        23   \n",
       "\n",
       "crime                theft_over  \n",
       "date       occ_dow               \n",
       "2015-01-01 Thursday           5  \n",
       "2015-01-02 Friday             2  \n",
       "2015-01-03 Saturday           3  \n",
       "2015-01-04 Sunday             1  \n",
       "2015-01-05 Monday             2  \n",
       "...                         ...  \n",
       "2018-12-27 Thursday           1  \n",
       "2018-12-28 Friday             1  \n",
       "2018-12-29 Saturday           4  \n",
       "2018-12-30 Sunday             3  \n",
       "2018-12-31 Monday             4  \n",
       "\n",
       "[1461 rows x 9 columns]"
      ]
     },
     "execution_count": 6,
     "metadata": {},
     "output_type": "execute_result"
    }
   ],
   "source": [
    "# Create new dataframe by counting occurences of certain crimes and grouping by date and day of the week (occ_dow)\n",
    "# From MM script\n",
    "daily_crime = crime_df.groupby(by=['date', \"occ_dow\"])[\"crime\"].value_counts().unstack(fill_value=0)\n",
    "daily_crime"
   ]
  },
  {
   "cell_type": "code",
   "execution_count": 7,
   "metadata": {},
   "outputs": [
    {
     "data": {
      "text/html": [
       "<div>\n",
       "<style scoped>\n",
       "    .dataframe tbody tr th:only-of-type {\n",
       "        vertical-align: middle;\n",
       "    }\n",
       "\n",
       "    .dataframe tbody tr th {\n",
       "        vertical-align: top;\n",
       "    }\n",
       "\n",
       "    .dataframe thead th {\n",
       "        text-align: right;\n",
       "    }\n",
       "</style>\n",
       "<table border=\"1\" class=\"dataframe\">\n",
       "  <thead>\n",
       "    <tr style=\"text-align: right;\">\n",
       "      <th>crime</th>\n",
       "      <th>date</th>\n",
       "      <th>occ_dow</th>\n",
       "      <th>assault</th>\n",
       "      <th>auto_theft</th>\n",
       "      <th>bicycle_theft</th>\n",
       "      <th>break_and_enter</th>\n",
       "      <th>homicide</th>\n",
       "      <th>robbery</th>\n",
       "      <th>shooting</th>\n",
       "      <th>theft_from_motor_vehicle</th>\n",
       "      <th>theft_over</th>\n",
       "    </tr>\n",
       "  </thead>\n",
       "  <tbody>\n",
       "    <tr>\n",
       "      <th>0</th>\n",
       "      <td>2015-01-01</td>\n",
       "      <td>Thursday</td>\n",
       "      <td>158</td>\n",
       "      <td>7</td>\n",
       "      <td>5</td>\n",
       "      <td>21</td>\n",
       "      <td>0</td>\n",
       "      <td>8</td>\n",
       "      <td>0</td>\n",
       "      <td>34</td>\n",
       "      <td>5</td>\n",
       "    </tr>\n",
       "    <tr>\n",
       "      <th>1</th>\n",
       "      <td>2015-01-02</td>\n",
       "      <td>Friday</td>\n",
       "      <td>34</td>\n",
       "      <td>9</td>\n",
       "      <td>4</td>\n",
       "      <td>18</td>\n",
       "      <td>0</td>\n",
       "      <td>6</td>\n",
       "      <td>0</td>\n",
       "      <td>34</td>\n",
       "      <td>2</td>\n",
       "    </tr>\n",
       "    <tr>\n",
       "      <th>2</th>\n",
       "      <td>2015-01-03</td>\n",
       "      <td>Saturday</td>\n",
       "      <td>37</td>\n",
       "      <td>10</td>\n",
       "      <td>0</td>\n",
       "      <td>4</td>\n",
       "      <td>0</td>\n",
       "      <td>8</td>\n",
       "      <td>0</td>\n",
       "      <td>21</td>\n",
       "      <td>3</td>\n",
       "    </tr>\n",
       "    <tr>\n",
       "      <th>3</th>\n",
       "      <td>2015-01-04</td>\n",
       "      <td>Sunday</td>\n",
       "      <td>44</td>\n",
       "      <td>5</td>\n",
       "      <td>1</td>\n",
       "      <td>11</td>\n",
       "      <td>0</td>\n",
       "      <td>5</td>\n",
       "      <td>0</td>\n",
       "      <td>33</td>\n",
       "      <td>1</td>\n",
       "    </tr>\n",
       "    <tr>\n",
       "      <th>4</th>\n",
       "      <td>2015-01-05</td>\n",
       "      <td>Monday</td>\n",
       "      <td>39</td>\n",
       "      <td>6</td>\n",
       "      <td>1</td>\n",
       "      <td>24</td>\n",
       "      <td>0</td>\n",
       "      <td>5</td>\n",
       "      <td>1</td>\n",
       "      <td>31</td>\n",
       "      <td>2</td>\n",
       "    </tr>\n",
       "    <tr>\n",
       "      <th>...</th>\n",
       "      <td>...</td>\n",
       "      <td>...</td>\n",
       "      <td>...</td>\n",
       "      <td>...</td>\n",
       "      <td>...</td>\n",
       "      <td>...</td>\n",
       "      <td>...</td>\n",
       "      <td>...</td>\n",
       "      <td>...</td>\n",
       "      <td>...</td>\n",
       "      <td>...</td>\n",
       "    </tr>\n",
       "    <tr>\n",
       "      <th>1456</th>\n",
       "      <td>2018-12-27</td>\n",
       "      <td>Thursday</td>\n",
       "      <td>38</td>\n",
       "      <td>7</td>\n",
       "      <td>2</td>\n",
       "      <td>21</td>\n",
       "      <td>0</td>\n",
       "      <td>7</td>\n",
       "      <td>0</td>\n",
       "      <td>30</td>\n",
       "      <td>1</td>\n",
       "    </tr>\n",
       "    <tr>\n",
       "      <th>1457</th>\n",
       "      <td>2018-12-28</td>\n",
       "      <td>Friday</td>\n",
       "      <td>35</td>\n",
       "      <td>13</td>\n",
       "      <td>2</td>\n",
       "      <td>21</td>\n",
       "      <td>0</td>\n",
       "      <td>12</td>\n",
       "      <td>0</td>\n",
       "      <td>31</td>\n",
       "      <td>1</td>\n",
       "    </tr>\n",
       "    <tr>\n",
       "      <th>1458</th>\n",
       "      <td>2018-12-29</td>\n",
       "      <td>Saturday</td>\n",
       "      <td>37</td>\n",
       "      <td>10</td>\n",
       "      <td>3</td>\n",
       "      <td>26</td>\n",
       "      <td>0</td>\n",
       "      <td>7</td>\n",
       "      <td>0</td>\n",
       "      <td>21</td>\n",
       "      <td>4</td>\n",
       "    </tr>\n",
       "    <tr>\n",
       "      <th>1459</th>\n",
       "      <td>2018-12-30</td>\n",
       "      <td>Sunday</td>\n",
       "      <td>43</td>\n",
       "      <td>8</td>\n",
       "      <td>3</td>\n",
       "      <td>22</td>\n",
       "      <td>0</td>\n",
       "      <td>7</td>\n",
       "      <td>0</td>\n",
       "      <td>22</td>\n",
       "      <td>3</td>\n",
       "    </tr>\n",
       "    <tr>\n",
       "      <th>1460</th>\n",
       "      <td>2018-12-31</td>\n",
       "      <td>Monday</td>\n",
       "      <td>38</td>\n",
       "      <td>14</td>\n",
       "      <td>2</td>\n",
       "      <td>20</td>\n",
       "      <td>0</td>\n",
       "      <td>11</td>\n",
       "      <td>0</td>\n",
       "      <td>23</td>\n",
       "      <td>4</td>\n",
       "    </tr>\n",
       "  </tbody>\n",
       "</table>\n",
       "<p>1461 rows × 11 columns</p>\n",
       "</div>"
      ],
      "text/plain": [
       "crime        date   occ_dow  assault  auto_theft  bicycle_theft  \\\n",
       "0      2015-01-01  Thursday      158           7              5   \n",
       "1      2015-01-02    Friday       34           9              4   \n",
       "2      2015-01-03  Saturday       37          10              0   \n",
       "3      2015-01-04    Sunday       44           5              1   \n",
       "4      2015-01-05    Monday       39           6              1   \n",
       "...           ...       ...      ...         ...            ...   \n",
       "1456   2018-12-27  Thursday       38           7              2   \n",
       "1457   2018-12-28    Friday       35          13              2   \n",
       "1458   2018-12-29  Saturday       37          10              3   \n",
       "1459   2018-12-30    Sunday       43           8              3   \n",
       "1460   2018-12-31    Monday       38          14              2   \n",
       "\n",
       "crime  break_and_enter  homicide  robbery  shooting  theft_from_motor_vehicle  \\\n",
       "0                   21         0        8         0                        34   \n",
       "1                   18         0        6         0                        34   \n",
       "2                    4         0        8         0                        21   \n",
       "3                   11         0        5         0                        33   \n",
       "4                   24         0        5         1                        31   \n",
       "...                ...       ...      ...       ...                       ...   \n",
       "1456                21         0        7         0                        30   \n",
       "1457                21         0       12         0                        31   \n",
       "1458                26         0        7         0                        21   \n",
       "1459                22         0        7         0                        22   \n",
       "1460                20         0       11         0                        23   \n",
       "\n",
       "crime  theft_over  \n",
       "0               5  \n",
       "1               2  \n",
       "2               3  \n",
       "3               1  \n",
       "4               2  \n",
       "...           ...  \n",
       "1456            1  \n",
       "1457            1  \n",
       "1458            4  \n",
       "1459            3  \n",
       "1460            4  \n",
       "\n",
       "[1461 rows x 11 columns]"
      ]
     },
     "execution_count": 7,
     "metadata": {},
     "output_type": "execute_result"
    }
   ],
   "source": [
    "# Reset index to flatten the dataframe\n",
    "daily_crime.reset_index(inplace=True)\n",
    "daily_crime"
   ]
  },
  {
   "cell_type": "code",
   "execution_count": 8,
   "metadata": {},
   "outputs": [
    {
     "data": {
      "text/html": [
       "<div>\n",
       "<style scoped>\n",
       "    .dataframe tbody tr th:only-of-type {\n",
       "        vertical-align: middle;\n",
       "    }\n",
       "\n",
       "    .dataframe tbody tr th {\n",
       "        vertical-align: top;\n",
       "    }\n",
       "\n",
       "    .dataframe thead th {\n",
       "        text-align: right;\n",
       "    }\n",
       "</style>\n",
       "<table border=\"1\" class=\"dataframe\">\n",
       "  <thead>\n",
       "    <tr style=\"text-align: right;\">\n",
       "      <th></th>\n",
       "      <th>date</th>\n",
       "      <th>max_temperature</th>\n",
       "      <th>min_temperature</th>\n",
       "      <th>max_relative_humidity</th>\n",
       "      <th>avg_relative_humidity</th>\n",
       "      <th>avg_pressure_sea</th>\n",
       "      <th>max_wind_speed</th>\n",
       "      <th>precipitation</th>\n",
       "      <th>rain</th>\n",
       "      <th>snow</th>\n",
       "      <th>...</th>\n",
       "      <th>occ_dow</th>\n",
       "      <th>assault</th>\n",
       "      <th>auto_theft</th>\n",
       "      <th>bicycle_theft</th>\n",
       "      <th>break_and_enter</th>\n",
       "      <th>homicide</th>\n",
       "      <th>robbery</th>\n",
       "      <th>shooting</th>\n",
       "      <th>theft_from_motor_vehicle</th>\n",
       "      <th>theft_over</th>\n",
       "    </tr>\n",
       "  </thead>\n",
       "  <tbody>\n",
       "    <tr>\n",
       "      <th>0</th>\n",
       "      <td>2018-12-31</td>\n",
       "      <td>5.0</td>\n",
       "      <td>-2.5</td>\n",
       "      <td>94</td>\n",
       "      <td>79.5</td>\n",
       "      <td>100.78</td>\n",
       "      <td>21</td>\n",
       "      <td>13.6</td>\n",
       "      <td>13.6</td>\n",
       "      <td>0.0</td>\n",
       "      <td>...</td>\n",
       "      <td>Monday</td>\n",
       "      <td>38</td>\n",
       "      <td>14</td>\n",
       "      <td>2</td>\n",
       "      <td>20</td>\n",
       "      <td>0</td>\n",
       "      <td>11</td>\n",
       "      <td>0</td>\n",
       "      <td>23</td>\n",
       "      <td>4</td>\n",
       "    </tr>\n",
       "    <tr>\n",
       "      <th>1</th>\n",
       "      <td>2018-12-30</td>\n",
       "      <td>0.7</td>\n",
       "      <td>-6.6</td>\n",
       "      <td>88</td>\n",
       "      <td>78.0</td>\n",
       "      <td>102.03</td>\n",
       "      <td>24</td>\n",
       "      <td>1.2</td>\n",
       "      <td>0.0</td>\n",
       "      <td>1.6</td>\n",
       "      <td>...</td>\n",
       "      <td>Sunday</td>\n",
       "      <td>43</td>\n",
       "      <td>8</td>\n",
       "      <td>3</td>\n",
       "      <td>22</td>\n",
       "      <td>0</td>\n",
       "      <td>7</td>\n",
       "      <td>0</td>\n",
       "      <td>22</td>\n",
       "      <td>3</td>\n",
       "    </tr>\n",
       "    <tr>\n",
       "      <th>2</th>\n",
       "      <td>2018-12-29</td>\n",
       "      <td>2.7</td>\n",
       "      <td>-7.0</td>\n",
       "      <td>80</td>\n",
       "      <td>68.0</td>\n",
       "      <td>101.86</td>\n",
       "      <td>34</td>\n",
       "      <td>0.0</td>\n",
       "      <td>0.0</td>\n",
       "      <td>0.0</td>\n",
       "      <td>...</td>\n",
       "      <td>Saturday</td>\n",
       "      <td>37</td>\n",
       "      <td>10</td>\n",
       "      <td>3</td>\n",
       "      <td>26</td>\n",
       "      <td>0</td>\n",
       "      <td>7</td>\n",
       "      <td>0</td>\n",
       "      <td>21</td>\n",
       "      <td>4</td>\n",
       "    </tr>\n",
       "    <tr>\n",
       "      <th>3</th>\n",
       "      <td>2018-12-28</td>\n",
       "      <td>12.4</td>\n",
       "      <td>2.7</td>\n",
       "      <td>95</td>\n",
       "      <td>84.5</td>\n",
       "      <td>100.89</td>\n",
       "      <td>30</td>\n",
       "      <td>1.8</td>\n",
       "      <td>1.8</td>\n",
       "      <td>0.0</td>\n",
       "      <td>...</td>\n",
       "      <td>Friday</td>\n",
       "      <td>35</td>\n",
       "      <td>13</td>\n",
       "      <td>2</td>\n",
       "      <td>21</td>\n",
       "      <td>0</td>\n",
       "      <td>12</td>\n",
       "      <td>0</td>\n",
       "      <td>31</td>\n",
       "      <td>1</td>\n",
       "    </tr>\n",
       "    <tr>\n",
       "      <th>4</th>\n",
       "      <td>2018-12-27</td>\n",
       "      <td>2.8</td>\n",
       "      <td>-7.4</td>\n",
       "      <td>87</td>\n",
       "      <td>74.0</td>\n",
       "      <td>102.52</td>\n",
       "      <td>30</td>\n",
       "      <td>5.4</td>\n",
       "      <td>5.4</td>\n",
       "      <td>0.0</td>\n",
       "      <td>...</td>\n",
       "      <td>Thursday</td>\n",
       "      <td>38</td>\n",
       "      <td>7</td>\n",
       "      <td>2</td>\n",
       "      <td>21</td>\n",
       "      <td>0</td>\n",
       "      <td>7</td>\n",
       "      <td>0</td>\n",
       "      <td>30</td>\n",
       "      <td>1</td>\n",
       "    </tr>\n",
       "    <tr>\n",
       "      <th>...</th>\n",
       "      <td>...</td>\n",
       "      <td>...</td>\n",
       "      <td>...</td>\n",
       "      <td>...</td>\n",
       "      <td>...</td>\n",
       "      <td>...</td>\n",
       "      <td>...</td>\n",
       "      <td>...</td>\n",
       "      <td>...</td>\n",
       "      <td>...</td>\n",
       "      <td>...</td>\n",
       "      <td>...</td>\n",
       "      <td>...</td>\n",
       "      <td>...</td>\n",
       "      <td>...</td>\n",
       "      <td>...</td>\n",
       "      <td>...</td>\n",
       "      <td>...</td>\n",
       "      <td>...</td>\n",
       "      <td>...</td>\n",
       "      <td>...</td>\n",
       "    </tr>\n",
       "    <tr>\n",
       "      <th>1456</th>\n",
       "      <td>2015-01-05</td>\n",
       "      <td>-5.8</td>\n",
       "      <td>-14.4</td>\n",
       "      <td>83</td>\n",
       "      <td>69.5</td>\n",
       "      <td>102.38</td>\n",
       "      <td>45</td>\n",
       "      <td>0.8</td>\n",
       "      <td>0.0</td>\n",
       "      <td>0.8</td>\n",
       "      <td>...</td>\n",
       "      <td>Monday</td>\n",
       "      <td>39</td>\n",
       "      <td>6</td>\n",
       "      <td>1</td>\n",
       "      <td>24</td>\n",
       "      <td>0</td>\n",
       "      <td>5</td>\n",
       "      <td>1</td>\n",
       "      <td>31</td>\n",
       "      <td>2</td>\n",
       "    </tr>\n",
       "    <tr>\n",
       "      <th>1457</th>\n",
       "      <td>2015-01-04</td>\n",
       "      <td>4.3</td>\n",
       "      <td>-5.9</td>\n",
       "      <td>98</td>\n",
       "      <td>82.5</td>\n",
       "      <td>100.69</td>\n",
       "      <td>43</td>\n",
       "      <td>6.8</td>\n",
       "      <td>6.4</td>\n",
       "      <td>0.4</td>\n",
       "      <td>...</td>\n",
       "      <td>Sunday</td>\n",
       "      <td>44</td>\n",
       "      <td>5</td>\n",
       "      <td>1</td>\n",
       "      <td>11</td>\n",
       "      <td>0</td>\n",
       "      <td>5</td>\n",
       "      <td>0</td>\n",
       "      <td>33</td>\n",
       "      <td>1</td>\n",
       "    </tr>\n",
       "    <tr>\n",
       "      <th>1458</th>\n",
       "      <td>2015-01-03</td>\n",
       "      <td>1.5</td>\n",
       "      <td>-5.8</td>\n",
       "      <td>97</td>\n",
       "      <td>82.5</td>\n",
       "      <td>101.96</td>\n",
       "      <td>29</td>\n",
       "      <td>10.8</td>\n",
       "      <td>8.0</td>\n",
       "      <td>2.4</td>\n",
       "      <td>...</td>\n",
       "      <td>Saturday</td>\n",
       "      <td>37</td>\n",
       "      <td>10</td>\n",
       "      <td>0</td>\n",
       "      <td>4</td>\n",
       "      <td>0</td>\n",
       "      <td>8</td>\n",
       "      <td>0</td>\n",
       "      <td>21</td>\n",
       "      <td>3</td>\n",
       "    </tr>\n",
       "    <tr>\n",
       "      <th>1459</th>\n",
       "      <td>2015-01-02</td>\n",
       "      <td>-1.0</td>\n",
       "      <td>-6.1</td>\n",
       "      <td>83</td>\n",
       "      <td>66.0</td>\n",
       "      <td>102.30</td>\n",
       "      <td>36</td>\n",
       "      <td>0.6</td>\n",
       "      <td>0.0</td>\n",
       "      <td>0.4</td>\n",
       "      <td>...</td>\n",
       "      <td>Friday</td>\n",
       "      <td>34</td>\n",
       "      <td>9</td>\n",
       "      <td>4</td>\n",
       "      <td>18</td>\n",
       "      <td>0</td>\n",
       "      <td>6</td>\n",
       "      <td>0</td>\n",
       "      <td>34</td>\n",
       "      <td>2</td>\n",
       "    </tr>\n",
       "    <tr>\n",
       "      <th>1460</th>\n",
       "      <td>2015-01-01</td>\n",
       "      <td>-1.9</td>\n",
       "      <td>-8.1</td>\n",
       "      <td>69</td>\n",
       "      <td>60.0</td>\n",
       "      <td>101.27</td>\n",
       "      <td>36</td>\n",
       "      <td>0.0</td>\n",
       "      <td>0.0</td>\n",
       "      <td>0.0</td>\n",
       "      <td>...</td>\n",
       "      <td>Thursday</td>\n",
       "      <td>158</td>\n",
       "      <td>7</td>\n",
       "      <td>5</td>\n",
       "      <td>21</td>\n",
       "      <td>0</td>\n",
       "      <td>8</td>\n",
       "      <td>0</td>\n",
       "      <td>34</td>\n",
       "      <td>5</td>\n",
       "    </tr>\n",
       "  </tbody>\n",
       "</table>\n",
       "<p>1461 rows × 23 columns</p>\n",
       "</div>"
      ],
      "text/plain": [
       "            date  max_temperature  min_temperature  max_relative_humidity  \\\n",
       "0     2018-12-31              5.0             -2.5                     94   \n",
       "1     2018-12-30              0.7             -6.6                     88   \n",
       "2     2018-12-29              2.7             -7.0                     80   \n",
       "3     2018-12-28             12.4              2.7                     95   \n",
       "4     2018-12-27              2.8             -7.4                     87   \n",
       "...          ...              ...              ...                    ...   \n",
       "1456  2015-01-05             -5.8            -14.4                     83   \n",
       "1457  2015-01-04              4.3             -5.9                     98   \n",
       "1458  2015-01-03              1.5             -5.8                     97   \n",
       "1459  2015-01-02             -1.0             -6.1                     83   \n",
       "1460  2015-01-01             -1.9             -8.1                     69   \n",
       "\n",
       "      avg_relative_humidity  avg_pressure_sea  max_wind_speed  precipitation  \\\n",
       "0                      79.5            100.78              21           13.6   \n",
       "1                      78.0            102.03              24            1.2   \n",
       "2                      68.0            101.86              34            0.0   \n",
       "3                      84.5            100.89              30            1.8   \n",
       "4                      74.0            102.52              30            5.4   \n",
       "...                     ...               ...             ...            ...   \n",
       "1456                   69.5            102.38              45            0.8   \n",
       "1457                   82.5            100.69              43            6.8   \n",
       "1458                   82.5            101.96              29           10.8   \n",
       "1459                   66.0            102.30              36            0.6   \n",
       "1460                   60.0            101.27              36            0.0   \n",
       "\n",
       "      rain  snow  ...   occ_dow  assault  auto_theft bicycle_theft  \\\n",
       "0     13.6   0.0  ...    Monday       38          14             2   \n",
       "1      0.0   1.6  ...    Sunday       43           8             3   \n",
       "2      0.0   0.0  ...  Saturday       37          10             3   \n",
       "3      1.8   0.0  ...    Friday       35          13             2   \n",
       "4      5.4   0.0  ...  Thursday       38           7             2   \n",
       "...    ...   ...  ...       ...      ...         ...           ...   \n",
       "1456   0.0   0.8  ...    Monday       39           6             1   \n",
       "1457   6.4   0.4  ...    Sunday       44           5             1   \n",
       "1458   8.0   2.4  ...  Saturday       37          10             0   \n",
       "1459   0.0   0.4  ...    Friday       34           9             4   \n",
       "1460   0.0   0.0  ...  Thursday      158           7             5   \n",
       "\n",
       "      break_and_enter  homicide  robbery  shooting  theft_from_motor_vehicle  \\\n",
       "0                  20         0       11         0                        23   \n",
       "1                  22         0        7         0                        22   \n",
       "2                  26         0        7         0                        21   \n",
       "3                  21         0       12         0                        31   \n",
       "4                  21         0        7         0                        30   \n",
       "...               ...       ...      ...       ...                       ...   \n",
       "1456               24         0        5         1                        31   \n",
       "1457               11         0        5         0                        33   \n",
       "1458                4         0        8         0                        21   \n",
       "1459               18         0        6         0                        34   \n",
       "1460               21         0        8         0                        34   \n",
       "\n",
       "      theft_over  \n",
       "0              4  \n",
       "1              3  \n",
       "2              4  \n",
       "3              1  \n",
       "4              1  \n",
       "...          ...  \n",
       "1456           2  \n",
       "1457           1  \n",
       "1458           3  \n",
       "1459           2  \n",
       "1460           5  \n",
       "\n",
       "[1461 rows x 23 columns]"
      ]
     },
     "execution_count": 8,
     "metadata": {},
     "output_type": "execute_result"
    }
   ],
   "source": [
    "# Merge weather and crime dataframes\n",
    "joined_df = pd.merge(weather_df, daily_crime, on=\"date\", how=\"left\")\n",
    "\n",
    "joined_df"
   ]
  },
  {
   "cell_type": "code",
   "execution_count": 9,
   "metadata": {},
   "outputs": [
    {
     "data": {
      "text/plain": [
       "Index(['date', 'max_temperature', 'min_temperature', 'max_relative_humidity',\n",
       "       'avg_relative_humidity', 'avg_pressure_sea', 'max_wind_speed',\n",
       "       'precipitation', 'rain', 'snow', 'snow_on_ground', 'daylight',\n",
       "       'avg_cloud_cover_8', 'occ_dow', 'assault', 'auto_theft',\n",
       "       'bicycle_theft', 'break_and_enter', 'homicide', 'robbery', 'shooting',\n",
       "       'theft_from_motor_vehicle', 'theft_over'],\n",
       "      dtype='object')"
      ]
     },
     "execution_count": 9,
     "metadata": {},
     "output_type": "execute_result"
    }
   ],
   "source": [
    "joined_df.columns"
   ]
  },
  {
   "attachments": {},
   "cell_type": "markdown",
   "metadata": {},
   "source": [
    "#### Assault"
   ]
  },
  {
   "cell_type": "code",
   "execution_count": 10,
   "metadata": {},
   "outputs": [
    {
     "data": {
      "text/html": [
       "<div>\n",
       "<style scoped>\n",
       "    .dataframe tbody tr th:only-of-type {\n",
       "        vertical-align: middle;\n",
       "    }\n",
       "\n",
       "    .dataframe tbody tr th {\n",
       "        vertical-align: top;\n",
       "    }\n",
       "\n",
       "    .dataframe thead th {\n",
       "        text-align: right;\n",
       "    }\n",
       "</style>\n",
       "<table border=\"1\" class=\"dataframe\">\n",
       "  <thead>\n",
       "    <tr style=\"text-align: right;\">\n",
       "      <th></th>\n",
       "      <th>precipitation</th>\n",
       "      <th>assault</th>\n",
       "    </tr>\n",
       "  </thead>\n",
       "  <tbody>\n",
       "    <tr>\n",
       "      <th>0</th>\n",
       "      <td>13.6</td>\n",
       "      <td>38</td>\n",
       "    </tr>\n",
       "    <tr>\n",
       "      <th>1</th>\n",
       "      <td>1.2</td>\n",
       "      <td>43</td>\n",
       "    </tr>\n",
       "    <tr>\n",
       "      <th>2</th>\n",
       "      <td>0.0</td>\n",
       "      <td>37</td>\n",
       "    </tr>\n",
       "    <tr>\n",
       "      <th>3</th>\n",
       "      <td>1.8</td>\n",
       "      <td>35</td>\n",
       "    </tr>\n",
       "    <tr>\n",
       "      <th>4</th>\n",
       "      <td>5.4</td>\n",
       "      <td>38</td>\n",
       "    </tr>\n",
       "    <tr>\n",
       "      <th>...</th>\n",
       "      <td>...</td>\n",
       "      <td>...</td>\n",
       "    </tr>\n",
       "    <tr>\n",
       "      <th>1456</th>\n",
       "      <td>0.8</td>\n",
       "      <td>39</td>\n",
       "    </tr>\n",
       "    <tr>\n",
       "      <th>1457</th>\n",
       "      <td>6.8</td>\n",
       "      <td>44</td>\n",
       "    </tr>\n",
       "    <tr>\n",
       "      <th>1458</th>\n",
       "      <td>10.8</td>\n",
       "      <td>37</td>\n",
       "    </tr>\n",
       "    <tr>\n",
       "      <th>1459</th>\n",
       "      <td>0.6</td>\n",
       "      <td>34</td>\n",
       "    </tr>\n",
       "    <tr>\n",
       "      <th>1460</th>\n",
       "      <td>0.0</td>\n",
       "      <td>158</td>\n",
       "    </tr>\n",
       "  </tbody>\n",
       "</table>\n",
       "<p>1461 rows × 2 columns</p>\n",
       "</div>"
      ],
      "text/plain": [
       "      precipitation  assault\n",
       "0              13.6       38\n",
       "1               1.2       43\n",
       "2               0.0       37\n",
       "3               1.8       35\n",
       "4               5.4       38\n",
       "...             ...      ...\n",
       "1456            0.8       39\n",
       "1457            6.8       44\n",
       "1458           10.8       37\n",
       "1459            0.6       34\n",
       "1460            0.0      158\n",
       "\n",
       "[1461 rows x 2 columns]"
      ]
     },
     "execution_count": 10,
     "metadata": {},
     "output_type": "execute_result"
    }
   ],
   "source": [
    "# Drop the non-beneficial columns, from crime data\n",
    "#joined_df.drop(columns=['occ_dow','auto_theftocc_year', 'occ_month', 'occ_day', 'occ_dow', 'occ_hour', 'premises_type', 'hood_140', 'neighbourhood_140', 'long_wgs84', 'lat_wgs84' ], inplace=True)\n",
    "assault_df = joined_df.copy()\n",
    "assault_df.drop(columns=['occ_dow','auto_theft', 'bicycle_theft', 'break_and_enter', 'homicide', 'robbery', 'shooting', 'theft_from_motor_vehicle', 'theft_over'], inplace=True)\n",
    "\n",
    "# # Drop the non-beneficial columns, from weather \n",
    "assault_df.drop(columns=['date','max_temperature', 'min_temperature', 'max_relative_humidity', 'avg_relative_humidity', 'avg_pressure_sea', 'max_wind_speed', 'rain', 'snow', 'snow_on_ground', 'daylight', 'avg_cloud_cover_8'], inplace=True)\n",
    "\n",
    "assault_df"
   ]
  },
  {
   "cell_type": "code",
   "execution_count": 11,
   "metadata": {},
   "outputs": [
    {
     "data": {
      "text/plain": [
       "precipitation    112\n",
       "assault           75\n",
       "dtype: int64"
      ]
     },
     "execution_count": 11,
     "metadata": {},
     "output_type": "execute_result"
    }
   ],
   "source": [
    "# Determine the number of unique values in each column.\n",
    "unique =assault_df.nunique()\n",
    "unique"
   ]
  },
  {
   "cell_type": "code",
   "execution_count": 12,
   "metadata": {},
   "outputs": [
    {
     "name": "stdout",
     "output_type": "stream",
     "text": [
      "               precipitation   assault\n",
      "precipitation       1.000000 -0.018992\n",
      "assault            -0.018992  1.000000\n"
     ]
    }
   ],
   "source": [
    "# Corrolation Matrix\n",
    "corr_matrix = assault_df.corr()\n",
    "\n",
    "print(corr_matrix)"
   ]
  },
  {
   "cell_type": "code",
   "execution_count": 13,
   "metadata": {},
   "outputs": [
    {
     "data": {
      "image/png": "[encoded data removed]",
      "text/plain": [
       "<Figure size 640x480 with 1 Axes>"
      ]
     },
     "metadata": {},
     "output_type": "display_data"
    }
   ],
   "source": [
    "plt.scatter(assault_df.precipitation, assault_df.assault)\n",
    "plt.xlabel('Percipitation')\n",
    "plt.ylabel('Assaults')\n",
    "plt.show()"
   ]
  },
  {
   "cell_type": "code",
   "execution_count": 14,
   "metadata": {},
   "outputs": [
    {
     "data": {
      "text/plain": [
       "array([[13.6],\n",
       "       [ 1.2],\n",
       "       [ 0. ],\n",
       "       ...,\n",
       "       [10.8],\n",
       "       [ 0.6],\n",
       "       [ 0. ]])"
      ]
     },
     "execution_count": 14,
     "metadata": {},
     "output_type": "execute_result"
    }
   ],
   "source": [
    "# The data in the df column must be reshaped into an array with shape (num_samples, num_features)\n",
    "# https://stackoverflow.com/questions/18691084/what-does-1-mean-in-numpy-reshape\n",
    "X = assault_df.precipitation.values.reshape(-1, 1)\n",
    "\n",
    "X"
   ]
  },
  {
   "cell_type": "code",
   "execution_count": 15,
   "metadata": {},
   "outputs": [
    {
     "data": {
      "text/plain": [
       "(1461, 1)"
      ]
     },
     "execution_count": 15,
     "metadata": {},
     "output_type": "execute_result"
    }
   ],
   "source": [
    "# The shape of X is 30 samples, with a single feature (column)\n",
    "X.shape"
   ]
  },
  {
   "cell_type": "code",
   "execution_count": 16,
   "metadata": {},
   "outputs": [
    {
     "data": {
      "text/plain": [
       "0        38\n",
       "1        43\n",
       "2        37\n",
       "3        35\n",
       "4        38\n",
       "       ... \n",
       "1456     39\n",
       "1457     44\n",
       "1458     37\n",
       "1459     34\n",
       "1460    158\n",
       "Name: assault, Length: 1461, dtype: int64"
      ]
     },
     "execution_count": 16,
     "metadata": {},
     "output_type": "execute_result"
    }
   ],
   "source": [
    "y=assault_df.assault\n",
    "y"
   ]
  },
  {
   "cell_type": "code",
   "execution_count": 17,
   "metadata": {},
   "outputs": [],
   "source": [
    "# Create a model with scikit-learn\n",
    "model = LinearRegression()"
   ]
  },
  {
   "cell_type": "code",
   "execution_count": 18,
   "metadata": {},
   "outputs": [
    {
     "data": {
      "text/plain": [
       "LinearRegression()"
      ]
     },
     "execution_count": 18,
     "metadata": {},
     "output_type": "execute_result"
    }
   ],
   "source": [
    "# Fit the data into the model\n",
    "# By convention, X is capitalized and y is lowercase\n",
    "model.fit(X, y)"
   ]
  },
  {
   "cell_type": "code",
   "execution_count": 19,
   "metadata": {},
   "outputs": [
    {
     "name": "stdout",
     "output_type": "stream",
     "text": [
      "(1461,)\n"
     ]
    }
   ],
   "source": [
    "# The model creates predicted y values based on X values\n",
    "y_pred = model.predict(X)\n",
    "print(y_pred.shape)"
   ]
  },
  {
   "cell_type": "code",
   "execution_count": 20,
   "metadata": {},
   "outputs": [
    {
     "data": {
      "image/png": "[encoded data removed]",
      "text/plain": [
       "<Figure size 640x480 with 1 Axes>"
      ]
     },
     "metadata": {},
     "output_type": "display_data"
    }
   ],
   "source": [
    "# Plot the results. The best fit line is red.\n",
    "plt.scatter(X, y)\n",
    "# plt.xlabel('Percipitation')\n",
    "# plt.ylabel('Assaults')\n",
    "plt.plot(X, y_pred, color='red')\n",
    "plt.show()"
   ]
  },
  {
   "cell_type": "code",
   "execution_count": 21,
   "metadata": {},
   "outputs": [
    {
     "name": "stdout",
     "output_type": "stream",
     "text": [
      "[-0.04383535]\n",
      "44.11096753816695\n"
     ]
    }
   ],
   "source": [
    "# The slope\n",
    "# The y-intercept\n",
    "print(model.coef_)\n",
    "print(model.intercept_)"
   ]
  },
  {
   "attachments": {},
   "cell_type": "markdown",
   "metadata": {},
   "source": [
    "#### Auto Theft\n"
   ]
  },
  {
   "cell_type": "code",
   "execution_count": 22,
   "metadata": {},
   "outputs": [
    {
     "data": {
      "text/html": [
       "<div>\n",
       "<style scoped>\n",
       "    .dataframe tbody tr th:only-of-type {\n",
       "        vertical-align: middle;\n",
       "    }\n",
       "\n",
       "    .dataframe tbody tr th {\n",
       "        vertical-align: top;\n",
       "    }\n",
       "\n",
       "    .dataframe thead th {\n",
       "        text-align: right;\n",
       "    }\n",
       "</style>\n",
       "<table border=\"1\" class=\"dataframe\">\n",
       "  <thead>\n",
       "    <tr style=\"text-align: right;\">\n",
       "      <th></th>\n",
       "      <th>precipitation</th>\n",
       "      <th>auto_theft</th>\n",
       "    </tr>\n",
       "  </thead>\n",
       "  <tbody>\n",
       "    <tr>\n",
       "      <th>0</th>\n",
       "      <td>13.6</td>\n",
       "      <td>14</td>\n",
       "    </tr>\n",
       "    <tr>\n",
       "      <th>1</th>\n",
       "      <td>1.2</td>\n",
       "      <td>8</td>\n",
       "    </tr>\n",
       "    <tr>\n",
       "      <th>2</th>\n",
       "      <td>0.0</td>\n",
       "      <td>10</td>\n",
       "    </tr>\n",
       "    <tr>\n",
       "      <th>3</th>\n",
       "      <td>1.8</td>\n",
       "      <td>13</td>\n",
       "    </tr>\n",
       "    <tr>\n",
       "      <th>4</th>\n",
       "      <td>5.4</td>\n",
       "      <td>7</td>\n",
       "    </tr>\n",
       "    <tr>\n",
       "      <th>...</th>\n",
       "      <td>...</td>\n",
       "      <td>...</td>\n",
       "    </tr>\n",
       "    <tr>\n",
       "      <th>1456</th>\n",
       "      <td>0.8</td>\n",
       "      <td>6</td>\n",
       "    </tr>\n",
       "    <tr>\n",
       "      <th>1457</th>\n",
       "      <td>6.8</td>\n",
       "      <td>5</td>\n",
       "    </tr>\n",
       "    <tr>\n",
       "      <th>1458</th>\n",
       "      <td>10.8</td>\n",
       "      <td>10</td>\n",
       "    </tr>\n",
       "    <tr>\n",
       "      <th>1459</th>\n",
       "      <td>0.6</td>\n",
       "      <td>9</td>\n",
       "    </tr>\n",
       "    <tr>\n",
       "      <th>1460</th>\n",
       "      <td>0.0</td>\n",
       "      <td>7</td>\n",
       "    </tr>\n",
       "  </tbody>\n",
       "</table>\n",
       "<p>1461 rows × 2 columns</p>\n",
       "</div>"
      ],
      "text/plain": [
       "      precipitation  auto_theft\n",
       "0              13.6          14\n",
       "1               1.2           8\n",
       "2               0.0          10\n",
       "3               1.8          13\n",
       "4               5.4           7\n",
       "...             ...         ...\n",
       "1456            0.8           6\n",
       "1457            6.8           5\n",
       "1458           10.8          10\n",
       "1459            0.6           9\n",
       "1460            0.0           7\n",
       "\n",
       "[1461 rows x 2 columns]"
      ]
     },
     "execution_count": 22,
     "metadata": {},
     "output_type": "execute_result"
    }
   ],
   "source": [
    "# Drop the non-beneficial columns, from crime data\n",
    "#joined_df.drop(columns=['occ_dow','auto_theftocc_year', 'occ_month', 'occ_day', 'occ_dow', 'occ_hour', 'premises_type', 'hood_140', 'neighbourhood_140', 'long_wgs84', 'lat_wgs84' ], inplace=True)\n",
    "auto_theft_df = joined_df.copy()\n",
    "auto_theft_df.drop(columns=['occ_dow','assault', 'bicycle_theft', 'break_and_enter', 'homicide', 'robbery', 'shooting', 'theft_from_motor_vehicle', 'theft_over'], inplace=True)\n",
    "\n",
    "# # Drop the non-beneficial columns, from weather \n",
    "auto_theft_df.drop(columns=['date','max_temperature', 'min_temperature', 'max_relative_humidity', 'avg_relative_humidity', 'avg_pressure_sea', 'max_wind_speed', 'rain', 'snow', 'snow_on_ground', 'daylight', 'avg_cloud_cover_8'], inplace=True)\n",
    "\n",
    "auto_theft_df"
   ]
  },
  {
   "cell_type": "code",
   "execution_count": 23,
   "metadata": {},
   "outputs": [
    {
     "data": {
      "text/plain": [
       "precipitation    112\n",
       "auto_theft        26\n",
       "dtype: int64"
      ]
     },
     "execution_count": 23,
     "metadata": {},
     "output_type": "execute_result"
    }
   ],
   "source": [
    "# Determine the number of unique values in each column.\n",
    "unique =auto_theft_df.nunique()\n",
    "unique"
   ]
  },
  {
   "cell_type": "code",
   "execution_count": 24,
   "metadata": {},
   "outputs": [
    {
     "name": "stdout",
     "output_type": "stream",
     "text": [
      "               precipitation  auto_theft\n",
      "precipitation       1.000000    0.011177\n",
      "auto_theft          0.011177    1.000000\n"
     ]
    }
   ],
   "source": [
    "# Corrolation Matrix\n",
    "corr_matrix = auto_theft_df.corr()\n",
    "\n",
    "print(corr_matrix)"
   ]
  },
  {
   "cell_type": "code",
   "execution_count": 25,
   "metadata": {},
   "outputs": [
    {
     "data": {
      "image/png": "[encoded data removed]",
      "text/plain": [
       "<Figure size 640x480 with 1 Axes>"
      ]
     },
     "metadata": {},
     "output_type": "display_data"
    }
   ],
   "source": [
    "plt.scatter(auto_theft_df.precipitation, auto_theft_df.auto_theft)\n",
    "plt.xlabel('Precipitation')\n",
    "plt.ylabel('Auto Theft')\n",
    "plt.show()"
   ]
  },
  {
   "cell_type": "code",
   "execution_count": 26,
   "metadata": {},
   "outputs": [
    {
     "data": {
      "text/plain": [
       "array([[13.6],\n",
       "       [ 1.2],\n",
       "       [ 0. ],\n",
       "       ...,\n",
       "       [10.8],\n",
       "       [ 0.6],\n",
       "       [ 0. ]])"
      ]
     },
     "execution_count": 26,
     "metadata": {},
     "output_type": "execute_result"
    }
   ],
   "source": [
    "# The data in the df column must be reshaped into an array with shape (num_samples, num_features)\n",
    "# https://stackoverflow.com/questions/18691084/what-does-1-mean-in-numpy-reshape\n",
    "X = auto_theft_df.precipitation.values.reshape(-1, 1)\n",
    "\n",
    "X"
   ]
  },
  {
   "cell_type": "code",
   "execution_count": 27,
   "metadata": {},
   "outputs": [
    {
     "data": {
      "text/plain": [
       "(1461, 1)"
      ]
     },
     "execution_count": 27,
     "metadata": {},
     "output_type": "execute_result"
    }
   ],
   "source": [
    "# The shape of X is 30 samples, with a single feature (column)\n",
    "X.shape"
   ]
  },
  {
   "cell_type": "code",
   "execution_count": 28,
   "metadata": {},
   "outputs": [
    {
     "data": {
      "text/plain": [
       "0       14\n",
       "1        8\n",
       "2       10\n",
       "3       13\n",
       "4        7\n",
       "        ..\n",
       "1456     6\n",
       "1457     5\n",
       "1458    10\n",
       "1459     9\n",
       "1460     7\n",
       "Name: auto_theft, Length: 1461, dtype: int64"
      ]
     },
     "execution_count": 28,
     "metadata": {},
     "output_type": "execute_result"
    }
   ],
   "source": [
    "y=auto_theft_df.auto_theft\n",
    "y"
   ]
  },
  {
   "cell_type": "code",
   "execution_count": 29,
   "metadata": {},
   "outputs": [],
   "source": [
    "# Create a model with scikit-learn\n",
    "model = LinearRegression()"
   ]
  },
  {
   "cell_type": "code",
   "execution_count": 30,
   "metadata": {},
   "outputs": [
    {
     "data": {
      "text/plain": [
       "LinearRegression()"
      ]
     },
     "execution_count": 30,
     "metadata": {},
     "output_type": "execute_result"
    }
   ],
   "source": [
    "# Fit the data into the model\n",
    "# By convention, X is capitalized and y is lowercase\n",
    "model.fit(X, y)"
   ]
  },
  {
   "cell_type": "code",
   "execution_count": 31,
   "metadata": {},
   "outputs": [
    {
     "name": "stdout",
     "output_type": "stream",
     "text": [
      "(1461,)\n"
     ]
    }
   ],
   "source": [
    "# The model creates predicted y values based on X values\n",
    "y_pred = model.predict(X)\n",
    "print(y_pred.shape)"
   ]
  },
  {
   "cell_type": "code",
   "execution_count": 32,
   "metadata": {},
   "outputs": [
    {
     "data": {
      "image/png": "[encoded data removed]",
      "text/plain": [
       "<Figure size 640x480 with 1 Axes>"
      ]
     },
     "metadata": {},
     "output_type": "display_data"
    }
   ],
   "source": [
    "# Plot the results. The best fit line is red.\n",
    "plt.scatter(X, y)\n",
    "plt.plot(X, y_pred, color='red')\n",
    "plt.show()"
   ]
  },
  {
   "cell_type": "code",
   "execution_count": 33,
   "metadata": {},
   "outputs": [
    {
     "name": "stdout",
     "output_type": "stream",
     "text": [
      "[0.0081525]\n",
      "9.415634281471243\n"
     ]
    }
   ],
   "source": [
    "# The slope\n",
    "# The y-intercept\n",
    "print(model.coef_)\n",
    "print(model.intercept_)"
   ]
  },
  {
   "attachments": {},
   "cell_type": "markdown",
   "metadata": {},
   "source": [
    "## Bicycle Theft"
   ]
  },
  {
   "cell_type": "code",
   "execution_count": 34,
   "metadata": {},
   "outputs": [
    {
     "data": {
      "text/html": [
       "<div>\n",
       "<style scoped>\n",
       "    .dataframe tbody tr th:only-of-type {\n",
       "        vertical-align: middle;\n",
       "    }\n",
       "\n",
       "    .dataframe tbody tr th {\n",
       "        vertical-align: top;\n",
       "    }\n",
       "\n",
       "    .dataframe thead th {\n",
       "        text-align: right;\n",
       "    }\n",
       "</style>\n",
       "<table border=\"1\" class=\"dataframe\">\n",
       "  <thead>\n",
       "    <tr style=\"text-align: right;\">\n",
       "      <th></th>\n",
       "      <th>precipitation</th>\n",
       "      <th>bicycle_theft</th>\n",
       "    </tr>\n",
       "  </thead>\n",
       "  <tbody>\n",
       "    <tr>\n",
       "      <th>0</th>\n",
       "      <td>13.6</td>\n",
       "      <td>2</td>\n",
       "    </tr>\n",
       "    <tr>\n",
       "      <th>1</th>\n",
       "      <td>1.2</td>\n",
       "      <td>3</td>\n",
       "    </tr>\n",
       "    <tr>\n",
       "      <th>2</th>\n",
       "      <td>0.0</td>\n",
       "      <td>3</td>\n",
       "    </tr>\n",
       "    <tr>\n",
       "      <th>3</th>\n",
       "      <td>1.8</td>\n",
       "      <td>2</td>\n",
       "    </tr>\n",
       "    <tr>\n",
       "      <th>4</th>\n",
       "      <td>5.4</td>\n",
       "      <td>2</td>\n",
       "    </tr>\n",
       "    <tr>\n",
       "      <th>...</th>\n",
       "      <td>...</td>\n",
       "      <td>...</td>\n",
       "    </tr>\n",
       "    <tr>\n",
       "      <th>1456</th>\n",
       "      <td>0.8</td>\n",
       "      <td>1</td>\n",
       "    </tr>\n",
       "    <tr>\n",
       "      <th>1457</th>\n",
       "      <td>6.8</td>\n",
       "      <td>1</td>\n",
       "    </tr>\n",
       "    <tr>\n",
       "      <th>1458</th>\n",
       "      <td>10.8</td>\n",
       "      <td>0</td>\n",
       "    </tr>\n",
       "    <tr>\n",
       "      <th>1459</th>\n",
       "      <td>0.6</td>\n",
       "      <td>4</td>\n",
       "    </tr>\n",
       "    <tr>\n",
       "      <th>1460</th>\n",
       "      <td>0.0</td>\n",
       "      <td>5</td>\n",
       "    </tr>\n",
       "  </tbody>\n",
       "</table>\n",
       "<p>1461 rows × 2 columns</p>\n",
       "</div>"
      ],
      "text/plain": [
       "      precipitation  bicycle_theft\n",
       "0              13.6              2\n",
       "1               1.2              3\n",
       "2               0.0              3\n",
       "3               1.8              2\n",
       "4               5.4              2\n",
       "...             ...            ...\n",
       "1456            0.8              1\n",
       "1457            6.8              1\n",
       "1458           10.8              0\n",
       "1459            0.6              4\n",
       "1460            0.0              5\n",
       "\n",
       "[1461 rows x 2 columns]"
      ]
     },
     "execution_count": 34,
     "metadata": {},
     "output_type": "execute_result"
    }
   ],
   "source": [
    "# Drop the non-beneficial columns, from crime data\n",
    "#joined_df.drop(columns=['occ_dow','auto_theftocc_year', 'occ_month', 'occ_day', 'occ_dow', 'occ_hour', 'premises_type', 'hood_140', 'neighbourhood_140', 'long_wgs84', 'lat_wgs84' ], inplace=True)\n",
    "bicycle_theft_df = joined_df.copy()\n",
    "bicycle_theft_df.drop(columns=['occ_dow', 'assault', 'auto_theft', 'break_and_enter', 'homicide', 'robbery', 'shooting', 'theft_from_motor_vehicle', 'theft_over'], inplace=True)\n",
    "\n",
    "# # Drop the non-beneficial columns, from weather \n",
    "bicycle_theft_df.drop(columns=['date','max_temperature', 'min_temperature', 'max_relative_humidity', 'avg_relative_humidity', 'avg_pressure_sea', 'max_wind_speed', 'rain', 'snow', 'snow_on_ground', 'daylight', 'avg_cloud_cover_8'], inplace=True)\n",
    "\n",
    "bicycle_theft_df\n"
   ]
  },
  {
   "cell_type": "code",
   "execution_count": 35,
   "metadata": {},
   "outputs": [
    {
     "data": {
      "text/plain": [
       "precipitation    112\n",
       "bicycle_theft     32\n",
       "dtype: int64"
      ]
     },
     "execution_count": 35,
     "metadata": {},
     "output_type": "execute_result"
    }
   ],
   "source": [
    "# Determine the number of unique values in each column.\n",
    "unique =bicycle_theft_df.nunique()\n",
    "unique"
   ]
  },
  {
   "cell_type": "code",
   "execution_count": 36,
   "metadata": {},
   "outputs": [
    {
     "name": "stdout",
     "output_type": "stream",
     "text": [
      "               precipitation  bicycle_theft\n",
      "precipitation       1.000000      -0.096396\n",
      "bicycle_theft      -0.096396       1.000000\n"
     ]
    }
   ],
   "source": [
    "# Corrolation Matrix\n",
    "corr_matrix = bicycle_theft_df.corr()\n",
    "\n",
    "print(corr_matrix)"
   ]
  },
  {
   "cell_type": "code",
   "execution_count": 37,
   "metadata": {},
   "outputs": [
    {
     "data": {
      "image/png": "[encoded data removed]",
      "text/plain": [
       "<Figure size 640x480 with 1 Axes>"
      ]
     },
     "metadata": {},
     "output_type": "display_data"
    }
   ],
   "source": [
    "plt.scatter(bicycle_theft_df.precipitation, bicycle_theft_df.bicycle_theft)\n",
    "plt.xlabel('Precipitation')\n",
    "plt.ylabel('bicycle_theft_df')\n",
    "plt.show()"
   ]
  },
  {
   "cell_type": "code",
   "execution_count": 38,
   "metadata": {},
   "outputs": [],
   "source": [
    "# The data in the df column must be reshaped into an array with shape (num_samples, num_features)\n",
    "# https://stackoverflow.com/questions/18691084/what-does-1-mean-in-numpy-reshape\n",
    "X = bicycle_theft_df.precipitation.values.reshape(-1, 1)"
   ]
  },
  {
   "cell_type": "code",
   "execution_count": 39,
   "metadata": {},
   "outputs": [
    {
     "data": {
      "text/plain": [
       "(1461, 1)"
      ]
     },
     "execution_count": 39,
     "metadata": {},
     "output_type": "execute_result"
    }
   ],
   "source": [
    "# The shape of X is 30 samples, with a single feature (column)\n",
    "X.shape"
   ]
  },
  {
   "cell_type": "code",
   "execution_count": 40,
   "metadata": {},
   "outputs": [
    {
     "data": {
      "text/plain": [
       "0       2\n",
       "1       3\n",
       "2       3\n",
       "3       2\n",
       "4       2\n",
       "       ..\n",
       "1456    1\n",
       "1457    1\n",
       "1458    0\n",
       "1459    4\n",
       "1460    5\n",
       "Name: bicycle_theft, Length: 1461, dtype: int64"
      ]
     },
     "execution_count": 40,
     "metadata": {},
     "output_type": "execute_result"
    }
   ],
   "source": [
    "y=bicycle_theft_df.bicycle_theft\n",
    "y"
   ]
  },
  {
   "cell_type": "code",
   "execution_count": 41,
   "metadata": {},
   "outputs": [],
   "source": [
    "# Create a model with scikit-learn\n",
    "model = LinearRegression()"
   ]
  },
  {
   "cell_type": "code",
   "execution_count": 42,
   "metadata": {},
   "outputs": [
    {
     "data": {
      "text/plain": [
       "LinearRegression()"
      ]
     },
     "execution_count": 42,
     "metadata": {},
     "output_type": "execute_result"
    }
   ],
   "source": [
    "# Fit the data into the model\n",
    "# By convention, X is capitalized and y is lowercase\n",
    "model.fit(X, y)"
   ]
  },
  {
   "cell_type": "code",
   "execution_count": 43,
   "metadata": {},
   "outputs": [
    {
     "name": "stdout",
     "output_type": "stream",
     "text": [
      "(1461,)\n"
     ]
    }
   ],
   "source": [
    "# The model creates predicted y values based on X values\n",
    "y_pred = model.predict(X)\n",
    "print(y_pred.shape)"
   ]
  },
  {
   "cell_type": "code",
   "execution_count": 44,
   "metadata": {},
   "outputs": [
    {
     "data": {
      "image/png": "[encoded data removed]",
      "text/plain": [
       "<Figure size 640x480 with 1 Axes>"
      ]
     },
     "metadata": {},
     "output_type": "display_data"
    }
   ],
   "source": [
    "# Plot the results. The best fit line is red.\n",
    "plt.scatter(X, y)\n",
    "plt.plot(X, y_pred, color='red')\n",
    "plt.xlabel('Precipitation')\n",
    "plt.ylabel('bicycle_theft_df')\n",
    "plt.show()"
   ]
  },
  {
   "cell_type": "code",
   "execution_count": 45,
   "metadata": {},
   "outputs": [
    {
     "name": "stdout",
     "output_type": "stream",
     "text": [
      "[-0.11574405]\n",
      "8.760782421023382\n"
     ]
    }
   ],
   "source": [
    "# The slope\n",
    "# The y-intercept\n",
    "print(model.coef_)\n",
    "print(model.intercept_)"
   ]
  },
  {
   "attachments": {},
   "cell_type": "markdown",
   "metadata": {},
   "source": [
    "#### Break and Enter"
   ]
  },
  {
   "cell_type": "code",
   "execution_count": 46,
   "metadata": {},
   "outputs": [
    {
     "data": {
      "text/html": [
       "<div>\n",
       "<style scoped>\n",
       "    .dataframe tbody tr th:only-of-type {\n",
       "        vertical-align: middle;\n",
       "    }\n",
       "\n",
       "    .dataframe tbody tr th {\n",
       "        vertical-align: top;\n",
       "    }\n",
       "\n",
       "    .dataframe thead th {\n",
       "        text-align: right;\n",
       "    }\n",
       "</style>\n",
       "<table border=\"1\" class=\"dataframe\">\n",
       "  <thead>\n",
       "    <tr style=\"text-align: right;\">\n",
       "      <th></th>\n",
       "      <th>avg_pressure_sea</th>\n",
       "      <th>break_and_enter</th>\n",
       "    </tr>\n",
       "  </thead>\n",
       "  <tbody>\n",
       "    <tr>\n",
       "      <th>0</th>\n",
       "      <td>100.78</td>\n",
       "      <td>20</td>\n",
       "    </tr>\n",
       "    <tr>\n",
       "      <th>1</th>\n",
       "      <td>102.03</td>\n",
       "      <td>22</td>\n",
       "    </tr>\n",
       "    <tr>\n",
       "      <th>2</th>\n",
       "      <td>101.86</td>\n",
       "      <td>26</td>\n",
       "    </tr>\n",
       "    <tr>\n",
       "      <th>3</th>\n",
       "      <td>100.89</td>\n",
       "      <td>21</td>\n",
       "    </tr>\n",
       "    <tr>\n",
       "      <th>4</th>\n",
       "      <td>102.52</td>\n",
       "      <td>21</td>\n",
       "    </tr>\n",
       "    <tr>\n",
       "      <th>...</th>\n",
       "      <td>...</td>\n",
       "      <td>...</td>\n",
       "    </tr>\n",
       "    <tr>\n",
       "      <th>1456</th>\n",
       "      <td>102.38</td>\n",
       "      <td>24</td>\n",
       "    </tr>\n",
       "    <tr>\n",
       "      <th>1457</th>\n",
       "      <td>100.69</td>\n",
       "      <td>11</td>\n",
       "    </tr>\n",
       "    <tr>\n",
       "      <th>1458</th>\n",
       "      <td>101.96</td>\n",
       "      <td>4</td>\n",
       "    </tr>\n",
       "    <tr>\n",
       "      <th>1459</th>\n",
       "      <td>102.30</td>\n",
       "      <td>18</td>\n",
       "    </tr>\n",
       "    <tr>\n",
       "      <th>1460</th>\n",
       "      <td>101.27</td>\n",
       "      <td>21</td>\n",
       "    </tr>\n",
       "  </tbody>\n",
       "</table>\n",
       "<p>1461 rows × 2 columns</p>\n",
       "</div>"
      ],
      "text/plain": [
       "      avg_pressure_sea  break_and_enter\n",
       "0               100.78               20\n",
       "1               102.03               22\n",
       "2               101.86               26\n",
       "3               100.89               21\n",
       "4               102.52               21\n",
       "...                ...              ...\n",
       "1456            102.38               24\n",
       "1457            100.69               11\n",
       "1458            101.96                4\n",
       "1459            102.30               18\n",
       "1460            101.27               21\n",
       "\n",
       "[1461 rows x 2 columns]"
      ]
     },
     "execution_count": 46,
     "metadata": {},
     "output_type": "execute_result"
    }
   ],
   "source": [
    "# Drop the non-beneficial columns, from crime data\n",
    "#joined_df.drop(columns=['occ_dow','auto_theftocc_year', 'occ_month', 'occ_day', 'occ_dow', 'occ_hour', 'premises_type', 'hood_140', 'neighbourhood_140', 'long_wgs84', 'lat_wgs84' ], inplace=True)\n",
    "break_enter_df = joined_df.copy()\n",
    "break_enter_df.drop(columns=['occ_dow','assault', 'auto_theft', 'bicycle_theft', 'homicide', 'robbery', 'shooting', 'theft_from_motor_vehicle', 'theft_over'], inplace=True)\n",
    "\n",
    "# # Drop the non-beneficial columns, from weather \n",
    "break_enter_df.drop(columns=['date','max_temperature', 'min_temperature', 'max_relative_humidity', 'avg_relative_humidity', 'precipitation', 'max_wind_speed', 'rain', 'snow', 'snow_on_ground', 'daylight', 'avg_cloud_cover_8'], inplace=True)\n",
    "\n",
    "break_enter_df"
   ]
  },
  {
   "cell_type": "code",
   "execution_count": 47,
   "metadata": {},
   "outputs": [
    {
     "data": {
      "text/plain": [
       "avg_pressure_sea    323\n",
       "break_and_enter      37\n",
       "dtype: int64"
      ]
     },
     "execution_count": 47,
     "metadata": {},
     "output_type": "execute_result"
    }
   ],
   "source": [
    "# Determine the number of unique values in each column.\n",
    "unique = break_enter_df.nunique()\n",
    "unique"
   ]
  },
  {
   "cell_type": "code",
   "execution_count": 48,
   "metadata": {},
   "outputs": [
    {
     "name": "stdout",
     "output_type": "stream",
     "text": [
      "                  avg_pressure_sea  break_and_enter\n",
      "avg_pressure_sea          1.000000        -0.031225\n",
      "break_and_enter          -0.031225         1.000000\n"
     ]
    }
   ],
   "source": [
    "# Corrolation Matrix\n",
    "corr_matrix = break_enter_df.corr()\n",
    "\n",
    "print(corr_matrix)"
   ]
  },
  {
   "cell_type": "code",
   "execution_count": 49,
   "metadata": {},
   "outputs": [
    {
     "data": {
      "image/png": "[encoded data removed]",
      "text/plain": [
       "<Figure size 640x480 with 1 Axes>"
      ]
     },
     "metadata": {},
     "output_type": "display_data"
    }
   ],
   "source": [
    "plt.scatter(break_enter_df.avg_pressure_sea, break_enter_df.break_and_enter)\n",
    "plt.xlabel('avg_pressure_sea')\n",
    "plt.ylabel('break_and_enter')\n",
    "plt.show()"
   ]
  },
  {
   "cell_type": "code",
   "execution_count": 50,
   "metadata": {},
   "outputs": [],
   "source": [
    "# The data in the df column must be reshaped into an array with shape (num_samples, num_features)\n",
    "# https://stackoverflow.com/questions/18691084/what-does-1-mean-in-numpy-reshape\n",
    "X = break_enter_df.avg_pressure_sea.values.reshape(-1, 1)"
   ]
  },
  {
   "cell_type": "code",
   "execution_count": 51,
   "metadata": {},
   "outputs": [
    {
     "data": {
      "text/plain": [
       "(1461, 1)"
      ]
     },
     "execution_count": 51,
     "metadata": {},
     "output_type": "execute_result"
    }
   ],
   "source": [
    "# The shape of X is 30 samples, with a single feature (column)\n",
    "X.shape"
   ]
  },
  {
   "cell_type": "code",
   "execution_count": 52,
   "metadata": {},
   "outputs": [
    {
     "data": {
      "text/plain": [
       "0       20\n",
       "1       22\n",
       "2       26\n",
       "3       21\n",
       "4       21\n",
       "        ..\n",
       "1456    24\n",
       "1457    11\n",
       "1458     4\n",
       "1459    18\n",
       "1460    21\n",
       "Name: break_and_enter, Length: 1461, dtype: int64"
      ]
     },
     "execution_count": 52,
     "metadata": {},
     "output_type": "execute_result"
    }
   ],
   "source": [
    "y=break_enter_df.break_and_enter\n",
    "y"
   ]
  },
  {
   "cell_type": "code",
   "execution_count": 53,
   "metadata": {},
   "outputs": [],
   "source": [
    "# Create a model with scikit-learn\n",
    "model = LinearRegression()"
   ]
  },
  {
   "cell_type": "code",
   "execution_count": 54,
   "metadata": {},
   "outputs": [
    {
     "data": {
      "text/plain": [
       "LinearRegression()"
      ]
     },
     "execution_count": 54,
     "metadata": {},
     "output_type": "execute_result"
    }
   ],
   "source": [
    "# Fit the data into the model\n",
    "# By convention, X is capitalized and y is lowercase\n",
    "model.fit(X, y)"
   ]
  },
  {
   "cell_type": "code",
   "execution_count": 55,
   "metadata": {},
   "outputs": [
    {
     "name": "stdout",
     "output_type": "stream",
     "text": [
      "(1461,)\n"
     ]
    }
   ],
   "source": [
    "# The model creates predicted y values based on X values\n",
    "y_pred = model.predict(X)\n",
    "print(y_pred.shape)"
   ]
  },
  {
   "cell_type": "code",
   "execution_count": 56,
   "metadata": {},
   "outputs": [
    {
     "data": {
      "image/png": "[encoded data removed]",
      "text/plain": [
       "<Figure size 640x480 with 1 Axes>"
      ]
     },
     "metadata": {},
     "output_type": "display_data"
    }
   ],
   "source": [
    "# Plot the results. The best fit line is red.\n",
    "plt.scatter(X, y)\n",
    "plt.plot(X, y_pred, color='red')\n",
    "plt.xlabel('Pressure')\n",
    "plt.ylabel('Break and Enter')\n",
    "plt.show()"
   ]
  },
  {
   "cell_type": "code",
   "execution_count": 57,
   "metadata": {},
   "outputs": [
    {
     "name": "stdout",
     "output_type": "stream",
     "text": [
      "[-0.25252667]\n",
      "44.21112804336329\n"
     ]
    }
   ],
   "source": [
    "# The slope\n",
    "# The y-intercept\n",
    "print(model.coef_)\n",
    "print(model.intercept_)"
   ]
  },
  {
   "attachments": {},
   "cell_type": "markdown",
   "metadata": {},
   "source": [
    "## Homicides"
   ]
  },
  {
   "cell_type": "code",
   "execution_count": 58,
   "metadata": {},
   "outputs": [
    {
     "data": {
      "text/html": [
       "<div>\n",
       "<style scoped>\n",
       "    .dataframe tbody tr th:only-of-type {\n",
       "        vertical-align: middle;\n",
       "    }\n",
       "\n",
       "    .dataframe tbody tr th {\n",
       "        vertical-align: top;\n",
       "    }\n",
       "\n",
       "    .dataframe thead th {\n",
       "        text-align: right;\n",
       "    }\n",
       "</style>\n",
       "<table border=\"1\" class=\"dataframe\">\n",
       "  <thead>\n",
       "    <tr style=\"text-align: right;\">\n",
       "      <th></th>\n",
       "      <th>avg_pressure_sea</th>\n",
       "      <th>homicide</th>\n",
       "    </tr>\n",
       "  </thead>\n",
       "  <tbody>\n",
       "    <tr>\n",
       "      <th>0</th>\n",
       "      <td>100.78</td>\n",
       "      <td>0</td>\n",
       "    </tr>\n",
       "    <tr>\n",
       "      <th>1</th>\n",
       "      <td>102.03</td>\n",
       "      <td>0</td>\n",
       "    </tr>\n",
       "    <tr>\n",
       "      <th>2</th>\n",
       "      <td>101.86</td>\n",
       "      <td>0</td>\n",
       "    </tr>\n",
       "    <tr>\n",
       "      <th>3</th>\n",
       "      <td>100.89</td>\n",
       "      <td>0</td>\n",
       "    </tr>\n",
       "    <tr>\n",
       "      <th>4</th>\n",
       "      <td>102.52</td>\n",
       "      <td>0</td>\n",
       "    </tr>\n",
       "    <tr>\n",
       "      <th>...</th>\n",
       "      <td>...</td>\n",
       "      <td>...</td>\n",
       "    </tr>\n",
       "    <tr>\n",
       "      <th>1456</th>\n",
       "      <td>102.38</td>\n",
       "      <td>0</td>\n",
       "    </tr>\n",
       "    <tr>\n",
       "      <th>1457</th>\n",
       "      <td>100.69</td>\n",
       "      <td>0</td>\n",
       "    </tr>\n",
       "    <tr>\n",
       "      <th>1458</th>\n",
       "      <td>101.96</td>\n",
       "      <td>0</td>\n",
       "    </tr>\n",
       "    <tr>\n",
       "      <th>1459</th>\n",
       "      <td>102.30</td>\n",
       "      <td>0</td>\n",
       "    </tr>\n",
       "    <tr>\n",
       "      <th>1460</th>\n",
       "      <td>101.27</td>\n",
       "      <td>0</td>\n",
       "    </tr>\n",
       "  </tbody>\n",
       "</table>\n",
       "<p>1461 rows × 2 columns</p>\n",
       "</div>"
      ],
      "text/plain": [
       "      avg_pressure_sea  homicide\n",
       "0               100.78         0\n",
       "1               102.03         0\n",
       "2               101.86         0\n",
       "3               100.89         0\n",
       "4               102.52         0\n",
       "...                ...       ...\n",
       "1456            102.38         0\n",
       "1457            100.69         0\n",
       "1458            101.96         0\n",
       "1459            102.30         0\n",
       "1460            101.27         0\n",
       "\n",
       "[1461 rows x 2 columns]"
      ]
     },
     "execution_count": 58,
     "metadata": {},
     "output_type": "execute_result"
    }
   ],
   "source": [
    "# Drop the non-beneficial columns, from crime data\n",
    "#joined_df.drop(columns=['occ_dow','auto_theftocc_year', 'occ_month', 'occ_day', 'occ_dow', 'occ_hour', 'premises_type', 'hood_140', 'neighbourhood_140', 'long_wgs84', 'lat_wgs84' ], inplace=True)\n",
    "homicides_df = joined_df.copy()\n",
    "homicides_df.drop(columns=['occ_dow','assault', 'auto_theft', 'bicycle_theft', 'break_and_enter', 'robbery', 'shooting', 'theft_from_motor_vehicle', 'theft_over'], inplace=True)\n",
    "\n",
    "# # Drop the non-beneficial columns, from weather \n",
    "homicides_df.drop(columns=['date','max_temperature', 'min_temperature', 'max_relative_humidity', 'avg_relative_humidity', 'precipitation', 'max_wind_speed', 'rain', 'snow', 'snow_on_ground', 'daylight', 'avg_cloud_cover_8'], inplace=True)\n",
    "\n",
    "homicides_df"
   ]
  },
  {
   "cell_type": "code",
   "execution_count": 59,
   "metadata": {},
   "outputs": [
    {
     "data": {
      "text/plain": [
       "113"
      ]
     },
     "execution_count": 59,
     "metadata": {},
     "output_type": "execute_result"
    }
   ],
   "source": [
    "homicides_df.homicide.sum()"
   ]
  },
  {
   "cell_type": "code",
   "execution_count": 60,
   "metadata": {},
   "outputs": [
    {
     "data": {
      "text/plain": [
       "avg_pressure_sea    323\n",
       "homicide              3\n",
       "dtype: int64"
      ]
     },
     "execution_count": 60,
     "metadata": {},
     "output_type": "execute_result"
    }
   ],
   "source": [
    "# Determine the number of unique values in each column.\n",
    "unique = homicides_df.nunique()\n",
    "unique"
   ]
  },
  {
   "cell_type": "code",
   "execution_count": 61,
   "metadata": {},
   "outputs": [
    {
     "name": "stdout",
     "output_type": "stream",
     "text": [
      "                  avg_pressure_sea  homicide\n",
      "avg_pressure_sea           1.00000  -0.00676\n",
      "homicide                  -0.00676   1.00000\n"
     ]
    }
   ],
   "source": [
    "# Corrolation Matrix\n",
    "corr_matrix = homicides_df.corr()\n",
    "\n",
    "print(corr_matrix)"
   ]
  },
  {
   "cell_type": "code",
   "execution_count": 62,
   "metadata": {},
   "outputs": [
    {
     "data": {
      "image/png": "[encoded data removed]",
      "text/plain": [
       "<Figure size 640x480 with 1 Axes>"
      ]
     },
     "metadata": {},
     "output_type": "display_data"
    }
   ],
   "source": [
    "plt.scatter(homicides_df.avg_pressure_sea, homicides_df.homicide)\n",
    "plt.xlabel('avg_pressure_sea')\n",
    "plt.ylabel('Homicides')\n",
    "plt.show()"
   ]
  },
  {
   "cell_type": "code",
   "execution_count": 63,
   "metadata": {},
   "outputs": [],
   "source": [
    "# The data in the df column must be reshaped into an array with shape (num_samples, num_features)\n",
    "# https://stackoverflow.com/questions/18691084/what-does-1-mean-in-numpy-reshape\n",
    "X = homicides_df.avg_pressure_sea.values.reshape(-1, 1)"
   ]
  },
  {
   "cell_type": "code",
   "execution_count": 64,
   "metadata": {},
   "outputs": [
    {
     "data": {
      "text/plain": [
       "(1461, 1)"
      ]
     },
     "execution_count": 64,
     "metadata": {},
     "output_type": "execute_result"
    }
   ],
   "source": [
    "# The shape of X is 30 samples, with a single feature (column)\n",
    "X.shape"
   ]
  },
  {
   "cell_type": "code",
   "execution_count": 65,
   "metadata": {},
   "outputs": [
    {
     "data": {
      "text/plain": [
       "0       0\n",
       "1       0\n",
       "2       0\n",
       "3       0\n",
       "4       0\n",
       "       ..\n",
       "1456    0\n",
       "1457    0\n",
       "1458    0\n",
       "1459    0\n",
       "1460    0\n",
       "Name: homicide, Length: 1461, dtype: int64"
      ]
     },
     "execution_count": 65,
     "metadata": {},
     "output_type": "execute_result"
    }
   ],
   "source": [
    "y=homicides_df.homicide\n",
    "y"
   ]
  },
  {
   "cell_type": "code",
   "execution_count": 66,
   "metadata": {},
   "outputs": [],
   "source": [
    "# Create a model with scikit-learn\n",
    "model = LinearRegression()"
   ]
  },
  {
   "cell_type": "code",
   "execution_count": 67,
   "metadata": {},
   "outputs": [
    {
     "data": {
      "text/plain": [
       "LinearRegression()"
      ]
     },
     "execution_count": 67,
     "metadata": {},
     "output_type": "execute_result"
    }
   ],
   "source": [
    "# Fit the data into the model\n",
    "# By convention, X is capitalized and y is lowercase\n",
    "model.fit(X, y)"
   ]
  },
  {
   "cell_type": "code",
   "execution_count": 68,
   "metadata": {},
   "outputs": [
    {
     "name": "stdout",
     "output_type": "stream",
     "text": [
      "(1461,)\n"
     ]
    }
   ],
   "source": [
    "# The model creates predicted y values based on X values\n",
    "y_pred = model.predict(X)\n",
    "print(y_pred.shape)"
   ]
  },
  {
   "cell_type": "code",
   "execution_count": 69,
   "metadata": {},
   "outputs": [
    {
     "data": {
      "image/png": "[encoded data removed]",
      "text/plain": [
       "<Figure size 640x480 with 1 Axes>"
      ]
     },
     "metadata": {},
     "output_type": "display_data"
    }
   ],
   "source": [
    "# Plot the results. The best fit line is red.\n",
    "plt.scatter(X, y)\n",
    "plt.plot(X, y_pred, color='red')\n",
    "plt.xlabel('Pressure')\n",
    "plt.ylabel('Homicides')\n",
    "plt.show()"
   ]
  },
  {
   "cell_type": "code",
   "execution_count": 70,
   "metadata": {},
   "outputs": [
    {
     "name": "stdout",
     "output_type": "stream",
     "text": [
      "[-0.00268386]\n",
      "0.3501841580378976\n"
     ]
    }
   ],
   "source": [
    "# The slope\n",
    "# The y-intercept\n",
    "print(model.coef_)\n",
    "print(model.intercept_)"
   ]
  }
 ],
 "metadata": {
  "kernelspec": {
   "display_name": "mleng",
   "language": "python",
   "name": "python3"
  },
  "language_info": {
   "codemirror_mode": {
    "name": "ipython",
    "version": 3
   },
   "file_extension": ".py",
   "mimetype": "text/x-python",
   "name": "python",
   "nbconvert_exporter": "python",
   "pygments_lexer": "ipython3",
   "version": "3.7.13"
  },
  "orig_nbformat": 4
 },
 "nbformat": 4,
 "nbformat_minor": 2
}
