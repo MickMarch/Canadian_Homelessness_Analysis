{
 "cells": [
  {
   "cell_type": "code",
   "execution_count": 2,
   "metadata": {},
   "outputs": [],
   "source": [
    "# Import dependencies\n",
    "import pandas as pd\n",
    "import matplotlib.pyplot as plt"
   ]
  },
  {
   "cell_type": "code",
   "execution_count": 3,
   "metadata": {},
   "outputs": [
    {
     "data": {
      "text/html": [
       "<div>\n",
       "<style scoped>\n",
       "    .dataframe tbody tr th:only-of-type {\n",
       "        vertical-align: middle;\n",
       "    }\n",
       "\n",
       "    .dataframe tbody tr th {\n",
       "        vertical-align: top;\n",
       "    }\n",
       "\n",
       "    .dataframe thead th {\n",
       "        text-align: right;\n",
       "    }\n",
       "</style>\n",
       "<table border=\"1\" class=\"dataframe\">\n",
       "  <thead>\n",
       "    <tr style=\"text-align: right;\">\n",
       "      <th></th>\n",
       "      <th>EVENT_UNIQUE_ID</th>\n",
       "      <th>CRIME</th>\n",
       "      <th>OCC_YEAR</th>\n",
       "      <th>OCC_MONTH</th>\n",
       "      <th>OCC_DAY</th>\n",
       "      <th>OCC_DOW</th>\n",
       "      <th>OCC_HOUR</th>\n",
       "      <th>PREMISES_TYPE</th>\n",
       "      <th>HOOD_140</th>\n",
       "      <th>NEIGHBOURHOOD_140</th>\n",
       "      <th>LONG_WGS84</th>\n",
       "      <th>LAT_WGS84</th>\n",
       "      <th>OCC_DATETIME</th>\n",
       "    </tr>\n",
       "  </thead>\n",
       "  <tbody>\n",
       "    <tr>\n",
       "      <th>0</th>\n",
       "      <td>GO-20155154</td>\n",
       "      <td>assault</td>\n",
       "      <td>2015</td>\n",
       "      <td>January</td>\n",
       "      <td>1</td>\n",
       "      <td>Thursday</td>\n",
       "      <td>23</td>\n",
       "      <td>House</td>\n",
       "      <td>115</td>\n",
       "      <td>Mount Dennis (115)</td>\n",
       "      <td>-79.504668</td>\n",
       "      <td>43.693238</td>\n",
       "      <td>2015-01-01</td>\n",
       "    </tr>\n",
       "    <tr>\n",
       "      <th>1</th>\n",
       "      <td>GO-20151233</td>\n",
       "      <td>assault</td>\n",
       "      <td>2015</td>\n",
       "      <td>January</td>\n",
       "      <td>1</td>\n",
       "      <td>Thursday</td>\n",
       "      <td>3</td>\n",
       "      <td>Commercial</td>\n",
       "      <td>77</td>\n",
       "      <td>Waterfront Communities-The Island (77)</td>\n",
       "      <td>-79.392855</td>\n",
       "      <td>43.647315</td>\n",
       "      <td>2015-01-01</td>\n",
       "    </tr>\n",
       "    <tr>\n",
       "      <th>2</th>\n",
       "      <td>GO-2015862</td>\n",
       "      <td>assault</td>\n",
       "      <td>2015</td>\n",
       "      <td>January</td>\n",
       "      <td>1</td>\n",
       "      <td>Thursday</td>\n",
       "      <td>2</td>\n",
       "      <td>Commercial</td>\n",
       "      <td>77</td>\n",
       "      <td>Waterfront Communities-The Island (77)</td>\n",
       "      <td>-79.387700</td>\n",
       "      <td>43.649776</td>\n",
       "      <td>2015-01-01</td>\n",
       "    </tr>\n",
       "    <tr>\n",
       "      <th>3</th>\n",
       "      <td>GO-2015182</td>\n",
       "      <td>assault</td>\n",
       "      <td>2015</td>\n",
       "      <td>January</td>\n",
       "      <td>1</td>\n",
       "      <td>Thursday</td>\n",
       "      <td>0</td>\n",
       "      <td>Commercial</td>\n",
       "      <td>1</td>\n",
       "      <td>West Humber-Clairville (1)</td>\n",
       "      <td>-79.595562</td>\n",
       "      <td>43.686751</td>\n",
       "      <td>2015-01-01</td>\n",
       "    </tr>\n",
       "    <tr>\n",
       "      <th>4</th>\n",
       "      <td>GO-2015276</td>\n",
       "      <td>assault</td>\n",
       "      <td>2015</td>\n",
       "      <td>January</td>\n",
       "      <td>1</td>\n",
       "      <td>Thursday</td>\n",
       "      <td>0</td>\n",
       "      <td>Outside</td>\n",
       "      <td>77</td>\n",
       "      <td>Waterfront Communities-The Island (77)</td>\n",
       "      <td>-79.400096</td>\n",
       "      <td>43.645835</td>\n",
       "      <td>2015-01-01</td>\n",
       "    </tr>\n",
       "  </tbody>\n",
       "</table>\n",
       "</div>"
      ],
      "text/plain": [
       "  EVENT_UNIQUE_ID    CRIME  OCC_YEAR OCC_MONTH  OCC_DAY   OCC_DOW  OCC_HOUR  \\\n",
       "0     GO-20155154  assault      2015   January        1  Thursday        23   \n",
       "1     GO-20151233  assault      2015   January        1  Thursday         3   \n",
       "2      GO-2015862  assault      2015   January        1  Thursday         2   \n",
       "3      GO-2015182  assault      2015   January        1  Thursday         0   \n",
       "4      GO-2015276  assault      2015   January        1  Thursday         0   \n",
       "\n",
       "  PREMISES_TYPE HOOD_140                       NEIGHBOURHOOD_140  LONG_WGS84  \\\n",
       "0         House      115                      Mount Dennis (115)  -79.504668   \n",
       "1    Commercial       77  Waterfront Communities-The Island (77)  -79.392855   \n",
       "2    Commercial       77  Waterfront Communities-The Island (77)  -79.387700   \n",
       "3    Commercial        1              West Humber-Clairville (1)  -79.595562   \n",
       "4       Outside       77  Waterfront Communities-The Island (77)  -79.400096   \n",
       "\n",
       "   LAT_WGS84 OCC_DATETIME  \n",
       "0  43.693238   2015-01-01  \n",
       "1  43.647315   2015-01-01  \n",
       "2  43.649776   2015-01-01  \n",
       "3  43.686751   2015-01-01  \n",
       "4  43.645835   2015-01-01  "
      ]
     },
     "execution_count": 3,
     "metadata": {},
     "output_type": "execute_result"
    }
   ],
   "source": [
    "# Load merged/cleaned dataset\n",
    "crime_df = pd.read_csv(\"../cleaned_data_2015_2018/all_data_merged_cleaned_2015_2018.csv\")\n",
    "crime_df.head()"
   ]
  },
  {
   "cell_type": "code",
   "execution_count": 6,
   "metadata": {},
   "outputs": [
    {
     "data": {
      "text/plain": [
       "10"
      ]
     },
     "execution_count": 6,
     "metadata": {},
     "output_type": "execute_result"
    }
   ],
   "source": [
    "# How many different crime types in df? \n",
    "crime_df[\"CRIME\"].nunique()"
   ]
  },
  {
   "cell_type": "code",
   "execution_count": 7,
   "metadata": {},
   "outputs": [
    {
     "data": {
      "text/plain": [
       "CRIME                   0\n",
       "OCC_YEAR                0\n",
       "OCC_MONTH               0\n",
       "OCC_DAY                 0\n",
       "OCC_DOW                 0\n",
       "OCC_HOUR                0\n",
       "PREMISES_TYPE        1811\n",
       "HOOD_140                0\n",
       "NEIGHBOURHOOD_140       0\n",
       "LONG_WGS84              0\n",
       "LAT_WGS84               0\n",
       "OCC_DATETIME            0\n",
       "dtype: int64"
      ]
     },
     "execution_count": 7,
     "metadata": {},
     "output_type": "execute_result"
    }
   ],
   "source": [
    "# Any null values in rows?\n",
    "crime_df.isnull().sum()"
   ]
  },
  {
   "cell_type": "code",
   "execution_count": 8,
   "metadata": {},
   "outputs": [
    {
     "data": {
      "text/html": [
       "<div>\n",
       "<style scoped>\n",
       "    .dataframe tbody tr th:only-of-type {\n",
       "        vertical-align: middle;\n",
       "    }\n",
       "\n",
       "    .dataframe tbody tr th {\n",
       "        vertical-align: top;\n",
       "    }\n",
       "\n",
       "    .dataframe thead th {\n",
       "        text-align: right;\n",
       "    }\n",
       "</style>\n",
       "<table border=\"1\" class=\"dataframe\">\n",
       "  <thead>\n",
       "    <tr style=\"text-align: right;\">\n",
       "      <th></th>\n",
       "      <th>CRIME</th>\n",
       "      <th>OCC_YEAR</th>\n",
       "      <th>OCC_MONTH</th>\n",
       "      <th>OCC_DAY</th>\n",
       "      <th>OCC_DOW</th>\n",
       "      <th>OCC_HOUR</th>\n",
       "      <th>PREMISES_TYPE</th>\n",
       "      <th>HOOD_140</th>\n",
       "      <th>NEIGHBOURHOOD_140</th>\n",
       "      <th>LONG_WGS84</th>\n",
       "      <th>LAT_WGS84</th>\n",
       "      <th>OCC_DATETIME</th>\n",
       "    </tr>\n",
       "  </thead>\n",
       "  <tbody>\n",
       "    <tr>\n",
       "      <th>134969</th>\n",
       "      <td>shooting</td>\n",
       "      <td>2015</td>\n",
       "      <td>July</td>\n",
       "      <td>1</td>\n",
       "      <td>Wednesday</td>\n",
       "      <td>4</td>\n",
       "      <td>NaN</td>\n",
       "      <td>107</td>\n",
       "      <td>Oakwood Village (107)</td>\n",
       "      <td>-79.440752</td>\n",
       "      <td>43.697311</td>\n",
       "      <td>2015-07-01 04:00:00</td>\n",
       "    </tr>\n",
       "    <tr>\n",
       "      <th>134970</th>\n",
       "      <td>shooting</td>\n",
       "      <td>2015</td>\n",
       "      <td>December</td>\n",
       "      <td>31</td>\n",
       "      <td>Thursday</td>\n",
       "      <td>18</td>\n",
       "      <td>NaN</td>\n",
       "      <td>26</td>\n",
       "      <td>Downsview-Roding-CFB (26)</td>\n",
       "      <td>-79.482066</td>\n",
       "      <td>43.726636</td>\n",
       "      <td>2015-12-31 18:00:00</td>\n",
       "    </tr>\n",
       "    <tr>\n",
       "      <th>134971</th>\n",
       "      <td>shooting</td>\n",
       "      <td>2015</td>\n",
       "      <td>March</td>\n",
       "      <td>23</td>\n",
       "      <td>Monday</td>\n",
       "      <td>2</td>\n",
       "      <td>NaN</td>\n",
       "      <td>14</td>\n",
       "      <td>Islington-City Centre West (14)</td>\n",
       "      <td>-79.564077</td>\n",
       "      <td>43.652450</td>\n",
       "      <td>2015-03-23 02:00:00</td>\n",
       "    </tr>\n",
       "    <tr>\n",
       "      <th>134972</th>\n",
       "      <td>shooting</td>\n",
       "      <td>2015</td>\n",
       "      <td>July</td>\n",
       "      <td>11</td>\n",
       "      <td>Saturday</td>\n",
       "      <td>12</td>\n",
       "      <td>NaN</td>\n",
       "      <td>22</td>\n",
       "      <td>Humbermede (22)</td>\n",
       "      <td>-79.542128</td>\n",
       "      <td>43.750842</td>\n",
       "      <td>2015-07-11 12:00:00</td>\n",
       "    </tr>\n",
       "    <tr>\n",
       "      <th>134973</th>\n",
       "      <td>shooting</td>\n",
       "      <td>2015</td>\n",
       "      <td>May</td>\n",
       "      <td>24</td>\n",
       "      <td>Sunday</td>\n",
       "      <td>4</td>\n",
       "      <td>NaN</td>\n",
       "      <td>98</td>\n",
       "      <td>Rosedale-Moore Park (98)</td>\n",
       "      <td>-79.383542</td>\n",
       "      <td>43.693791</td>\n",
       "      <td>2015-05-24 04:00:00</td>\n",
       "    </tr>\n",
       "    <tr>\n",
       "      <th>...</th>\n",
       "      <td>...</td>\n",
       "      <td>...</td>\n",
       "      <td>...</td>\n",
       "      <td>...</td>\n",
       "      <td>...</td>\n",
       "      <td>...</td>\n",
       "      <td>...</td>\n",
       "      <td>...</td>\n",
       "      <td>...</td>\n",
       "      <td>...</td>\n",
       "      <td>...</td>\n",
       "      <td>...</td>\n",
       "    </tr>\n",
       "    <tr>\n",
       "      <th>480898</th>\n",
       "      <td>homicide</td>\n",
       "      <td>2018</td>\n",
       "      <td>December</td>\n",
       "      <td>6</td>\n",
       "      <td>Thursday</td>\n",
       "      <td>0</td>\n",
       "      <td>NaN</td>\n",
       "      <td>73</td>\n",
       "      <td>Moss Park (73)</td>\n",
       "      <td>-79.374451</td>\n",
       "      <td>43.660196</td>\n",
       "      <td>2018-12-06 00:00:00</td>\n",
       "    </tr>\n",
       "    <tr>\n",
       "      <th>480899</th>\n",
       "      <td>homicide</td>\n",
       "      <td>2018</td>\n",
       "      <td>December</td>\n",
       "      <td>12</td>\n",
       "      <td>Wednesday</td>\n",
       "      <td>0</td>\n",
       "      <td>NaN</td>\n",
       "      <td>6</td>\n",
       "      <td>Kingsview Village-The Westway (6)</td>\n",
       "      <td>-79.548672</td>\n",
       "      <td>43.701318</td>\n",
       "      <td>2018-12-12 00:00:00</td>\n",
       "    </tr>\n",
       "    <tr>\n",
       "      <th>480900</th>\n",
       "      <td>homicide</td>\n",
       "      <td>2018</td>\n",
       "      <td>December</td>\n",
       "      <td>18</td>\n",
       "      <td>Tuesday</td>\n",
       "      <td>0</td>\n",
       "      <td>NaN</td>\n",
       "      <td>24</td>\n",
       "      <td>Black Creek (24)</td>\n",
       "      <td>-79.517771</td>\n",
       "      <td>43.759010</td>\n",
       "      <td>2018-12-18 00:00:00</td>\n",
       "    </tr>\n",
       "    <tr>\n",
       "      <th>480901</th>\n",
       "      <td>homicide</td>\n",
       "      <td>2018</td>\n",
       "      <td>December</td>\n",
       "      <td>19</td>\n",
       "      <td>Wednesday</td>\n",
       "      <td>0</td>\n",
       "      <td>NaN</td>\n",
       "      <td>77</td>\n",
       "      <td>Waterfront Communities-The Island (77)</td>\n",
       "      <td>-79.397643</td>\n",
       "      <td>43.644948</td>\n",
       "      <td>2018-12-19 00:00:00</td>\n",
       "    </tr>\n",
       "    <tr>\n",
       "      <th>480902</th>\n",
       "      <td>homicide</td>\n",
       "      <td>2018</td>\n",
       "      <td>December</td>\n",
       "      <td>21</td>\n",
       "      <td>Friday</td>\n",
       "      <td>0</td>\n",
       "      <td>NaN</td>\n",
       "      <td>2</td>\n",
       "      <td>Mount Olive-Silverstone-Jamestown (2)</td>\n",
       "      <td>-79.583905</td>\n",
       "      <td>43.751097</td>\n",
       "      <td>2018-12-21 00:00:00</td>\n",
       "    </tr>\n",
       "  </tbody>\n",
       "</table>\n",
       "<p>1811 rows × 12 columns</p>\n",
       "</div>"
      ],
      "text/plain": [
       "           CRIME  OCC_YEAR OCC_MONTH  OCC_DAY    OCC_DOW  OCC_HOUR  \\\n",
       "134969  shooting      2015      July        1  Wednesday         4   \n",
       "134970  shooting      2015  December       31   Thursday        18   \n",
       "134971  shooting      2015     March       23     Monday         2   \n",
       "134972  shooting      2015      July       11   Saturday        12   \n",
       "134973  shooting      2015       May       24     Sunday         4   \n",
       "...          ...       ...       ...      ...        ...       ...   \n",
       "480898  homicide      2018  December        6   Thursday         0   \n",
       "480899  homicide      2018  December       12  Wednesday         0   \n",
       "480900  homicide      2018  December       18    Tuesday         0   \n",
       "480901  homicide      2018  December       19  Wednesday         0   \n",
       "480902  homicide      2018  December       21     Friday         0   \n",
       "\n",
       "       PREMISES_TYPE HOOD_140                       NEIGHBOURHOOD_140  \\\n",
       "134969           NaN      107                   Oakwood Village (107)   \n",
       "134970           NaN       26               Downsview-Roding-CFB (26)   \n",
       "134971           NaN       14         Islington-City Centre West (14)   \n",
       "134972           NaN       22                         Humbermede (22)   \n",
       "134973           NaN       98                Rosedale-Moore Park (98)   \n",
       "...              ...      ...                                     ...   \n",
       "480898           NaN       73                          Moss Park (73)   \n",
       "480899           NaN        6       Kingsview Village-The Westway (6)   \n",
       "480900           NaN       24                        Black Creek (24)   \n",
       "480901           NaN       77  Waterfront Communities-The Island (77)   \n",
       "480902           NaN        2   Mount Olive-Silverstone-Jamestown (2)   \n",
       "\n",
       "        LONG_WGS84  LAT_WGS84         OCC_DATETIME  \n",
       "134969  -79.440752  43.697311  2015-07-01 04:00:00  \n",
       "134970  -79.482066  43.726636  2015-12-31 18:00:00  \n",
       "134971  -79.564077  43.652450  2015-03-23 02:00:00  \n",
       "134972  -79.542128  43.750842  2015-07-11 12:00:00  \n",
       "134973  -79.383542  43.693791  2015-05-24 04:00:00  \n",
       "...            ...        ...                  ...  \n",
       "480898  -79.374451  43.660196  2018-12-06 00:00:00  \n",
       "480899  -79.548672  43.701318  2018-12-12 00:00:00  \n",
       "480900  -79.517771  43.759010  2018-12-18 00:00:00  \n",
       "480901  -79.397643  43.644948  2018-12-19 00:00:00  \n",
       "480902  -79.583905  43.751097  2018-12-21 00:00:00  \n",
       "\n",
       "[1811 rows x 12 columns]"
      ]
     },
     "execution_count": 8,
     "metadata": {},
     "output_type": "execute_result"
    }
   ],
   "source": [
    "# Look at PREMISES_TYPE column with null values\n",
    "crime_df[crime_df[\"PREMISES_TYPE\"].isna()]"
   ]
  },
  {
   "cell_type": "code",
   "execution_count": 9,
   "metadata": {},
   "outputs": [
    {
     "data": {
      "text/plain": [
       "(480903, 12)"
      ]
     },
     "execution_count": 9,
     "metadata": {},
     "output_type": "execute_result"
    }
   ],
   "source": [
    "# Look at overall shape of dataset\n",
    "# 1,811 null values out of 480,903 rows for PREMISES_TYPE\n",
    "crime_df.shape"
   ]
  },
  {
   "cell_type": "code",
   "execution_count": 10,
   "metadata": {},
   "outputs": [
    {
     "data": {
      "text/plain": [
       "'2015-01-01 00:00:00'"
      ]
     },
     "execution_count": 10,
     "metadata": {},
     "output_type": "execute_result"
    }
   ],
   "source": [
    "# Find date range of dataset\n",
    "crime_df[\"OCC_DATETIME\"].min()"
   ]
  },
  {
   "cell_type": "code",
   "execution_count": 11,
   "metadata": {},
   "outputs": [
    {
     "data": {
      "text/plain": [
       "'2018-12-31 23:00:00'"
      ]
     },
     "execution_count": 11,
     "metadata": {},
     "output_type": "execute_result"
    }
   ],
   "source": [
    "crime_df[\"OCC_DATETIME\"].max()"
   ]
  },
  {
   "cell_type": "code",
   "execution_count": 12,
   "metadata": {},
   "outputs": [
    {
     "data": {
      "text/plain": [
       "144"
      ]
     },
     "execution_count": 12,
     "metadata": {},
     "output_type": "execute_result"
    }
   ],
   "source": [
    "# How many different neighbourhoods in this dataset? \n",
    "crime_df[\"NEIGHBOURHOOD_140\"].nunique()"
   ]
  },
  {
   "cell_type": "code",
   "execution_count": 13,
   "metadata": {},
   "outputs": [
    {
     "data": {
      "text/plain": [
       "<AxesSubplot:>"
      ]
     },
     "execution_count": 13,
     "metadata": {},
     "output_type": "execute_result"
    },
    {
     "data": {
      "image/png": "[encoded data removed]",
      "text/plain": [
       "<Figure size 640x480 with 1 Axes>"
      ]
     },
     "metadata": {},
     "output_type": "display_data"
    }
   ],
   "source": [
    "# Nbr of crimes by year\n",
    "crime_df[\"OCC_YEAR\"].value_counts().plot(kind=\"barh\")"
   ]
  },
  {
   "cell_type": "code",
   "execution_count": 14,
   "metadata": {},
   "outputs": [
    {
     "data": {
      "text/plain": [
       "<AxesSubplot:>"
      ]
     },
     "execution_count": 14,
     "metadata": {},
     "output_type": "execute_result"
    },
    {
     "data": {
      "image/png": "[encoded data removed]",
      "text/plain": [
       "<Figure size 640x480 with 1 Axes>"
      ]
     },
     "metadata": {},
     "output_type": "display_data"
    }
   ],
   "source": [
    "# Nbr of crimes per month (across all years)\n",
    "crime_df[\"OCC_MONTH\"].value_counts().plot(kind=\"barh\")\n"
   ]
  },
  {
   "cell_type": "code",
   "execution_count": 15,
   "metadata": {},
   "outputs": [
    {
     "data": {
      "text/plain": [
       "traffic_collision           290376\n",
       "assault                      76777\n",
       "theft_from_motor_vehicle     34109\n",
       "break_and_enter              27945\n",
       "robbery                      15163\n",
       "auto_theft                   15084\n",
       "bicycle_theft                15077\n",
       "theft_over                    4561\n",
       "shooting                      1514\n",
       "homicide                       297\n",
       "Name: CRIME, dtype: int64"
      ]
     },
     "execution_count": 15,
     "metadata": {},
     "output_type": "execute_result"
    }
   ],
   "source": [
    "crime_counts = crime_df[\"CRIME\"].value_counts()\n",
    "crime_counts"
   ]
  },
  {
   "cell_type": "code",
   "execution_count": 16,
   "metadata": {},
   "outputs": [],
   "source": [
    "labels = [\"traffic_collision\", \"assault\", \"theft_from_motor_vehicle\", \"break_and_enter\", \"robbery\", \"auto_theft\", \"bicycle_theft\", \"theft_over\", \"shooting\", \"homicide\"]"
   ]
  },
  {
   "cell_type": "code",
   "execution_count": 17,
   "metadata": {},
   "outputs": [
    {
     "data": {
      "image/png": "[encoded data removed]",
      "text/plain": [
       "<Figure size 640x480 with 1 Axes>"
      ]
     },
     "metadata": {},
     "output_type": "display_data"
    }
   ],
   "source": [
    "# Pie chart of nbr of crimes by type \n",
    "plt.pie(crime_df[\"CRIME\"].value_counts(), labels = labels, textprops={'fontsize': 8}, autopct='%1.1f%%')\n",
    "plt.show()\n",
    "\n",
    "# Consider removing traffic collisions? Obvious that they will be influenced by weather. "
   ]
  },
  {
   "cell_type": "code",
   "execution_count": 4,
   "metadata": {},
   "outputs": [
    {
     "data": {
      "text/html": [
       "<div>\n",
       "<style scoped>\n",
       "    .dataframe tbody tr th:only-of-type {\n",
       "        vertical-align: middle;\n",
       "    }\n",
       "\n",
       "    .dataframe tbody tr th {\n",
       "        vertical-align: top;\n",
       "    }\n",
       "\n",
       "    .dataframe thead th {\n",
       "        text-align: right;\n",
       "    }\n",
       "</style>\n",
       "<table border=\"1\" class=\"dataframe\">\n",
       "  <thead>\n",
       "    <tr style=\"text-align: right;\">\n",
       "      <th></th>\n",
       "      <th>date</th>\n",
       "      <th>max_temperature</th>\n",
       "      <th>min_temperature</th>\n",
       "      <th>max_relative_humidity</th>\n",
       "      <th>avg_relative_humidity</th>\n",
       "      <th>avg_pressure_sea</th>\n",
       "      <th>max_wind_speed</th>\n",
       "      <th>precipitation</th>\n",
       "      <th>rain</th>\n",
       "      <th>snow</th>\n",
       "      <th>snow_on_ground</th>\n",
       "      <th>daylight</th>\n",
       "      <th>avg_cloud_cover_8</th>\n",
       "    </tr>\n",
       "  </thead>\n",
       "  <tbody>\n",
       "    <tr>\n",
       "      <th>0</th>\n",
       "      <td>2018-12-31</td>\n",
       "      <td>5.0</td>\n",
       "      <td>-2.5</td>\n",
       "      <td>94</td>\n",
       "      <td>79.5</td>\n",
       "      <td>100.78</td>\n",
       "      <td>21</td>\n",
       "      <td>13.6</td>\n",
       "      <td>13.6</td>\n",
       "      <td>0.0</td>\n",
       "      <td>0.0</td>\n",
       "      <td>8.98</td>\n",
       "      <td>4.5</td>\n",
       "    </tr>\n",
       "    <tr>\n",
       "      <th>1</th>\n",
       "      <td>2018-12-30</td>\n",
       "      <td>0.7</td>\n",
       "      <td>-6.6</td>\n",
       "      <td>88</td>\n",
       "      <td>78.0</td>\n",
       "      <td>102.03</td>\n",
       "      <td>24</td>\n",
       "      <td>1.2</td>\n",
       "      <td>0.0</td>\n",
       "      <td>1.6</td>\n",
       "      <td>2.0</td>\n",
       "      <td>8.97</td>\n",
       "      <td>5.0</td>\n",
       "    </tr>\n",
       "    <tr>\n",
       "      <th>2</th>\n",
       "      <td>2018-12-29</td>\n",
       "      <td>2.7</td>\n",
       "      <td>-7.0</td>\n",
       "      <td>80</td>\n",
       "      <td>68.0</td>\n",
       "      <td>101.86</td>\n",
       "      <td>34</td>\n",
       "      <td>0.0</td>\n",
       "      <td>0.0</td>\n",
       "      <td>0.0</td>\n",
       "      <td>0.0</td>\n",
       "      <td>8.95</td>\n",
       "      <td>4.5</td>\n",
       "    </tr>\n",
       "    <tr>\n",
       "      <th>3</th>\n",
       "      <td>2018-12-28</td>\n",
       "      <td>12.4</td>\n",
       "      <td>2.7</td>\n",
       "      <td>95</td>\n",
       "      <td>84.5</td>\n",
       "      <td>100.89</td>\n",
       "      <td>30</td>\n",
       "      <td>1.8</td>\n",
       "      <td>1.8</td>\n",
       "      <td>0.0</td>\n",
       "      <td>0.0</td>\n",
       "      <td>8.93</td>\n",
       "      <td>4.5</td>\n",
       "    </tr>\n",
       "    <tr>\n",
       "      <th>4</th>\n",
       "      <td>2018-12-27</td>\n",
       "      <td>2.8</td>\n",
       "      <td>-7.4</td>\n",
       "      <td>87</td>\n",
       "      <td>74.0</td>\n",
       "      <td>102.52</td>\n",
       "      <td>30</td>\n",
       "      <td>5.4</td>\n",
       "      <td>5.4</td>\n",
       "      <td>0.0</td>\n",
       "      <td>0.0</td>\n",
       "      <td>8.93</td>\n",
       "      <td>4.0</td>\n",
       "    </tr>\n",
       "  </tbody>\n",
       "</table>\n",
       "</div>"
      ],
      "text/plain": [
       "         date  max_temperature  min_temperature  max_relative_humidity  \\\n",
       "0  2018-12-31              5.0             -2.5                     94   \n",
       "1  2018-12-30              0.7             -6.6                     88   \n",
       "2  2018-12-29              2.7             -7.0                     80   \n",
       "3  2018-12-28             12.4              2.7                     95   \n",
       "4  2018-12-27              2.8             -7.4                     87   \n",
       "\n",
       "   avg_relative_humidity  avg_pressure_sea  max_wind_speed  precipitation  \\\n",
       "0                   79.5            100.78              21           13.6   \n",
       "1                   78.0            102.03              24            1.2   \n",
       "2                   68.0            101.86              34            0.0   \n",
       "3                   84.5            100.89              30            1.8   \n",
       "4                   74.0            102.52              30            5.4   \n",
       "\n",
       "   rain  snow  snow_on_ground  daylight  avg_cloud_cover_8  \n",
       "0  13.6   0.0             0.0      8.98                4.5  \n",
       "1   0.0   1.6             2.0      8.97                5.0  \n",
       "2   0.0   0.0             0.0      8.95                4.5  \n",
       "3   1.8   0.0             0.0      8.93                4.5  \n",
       "4   5.4   0.0             0.0      8.93                4.0  "
      ]
     },
     "execution_count": 4,
     "metadata": {},
     "output_type": "execute_result"
    }
   ],
   "source": [
    "# Explore weather data \n",
    "weather_df = pd.read_csv(\"../cleaned_data_2015_2018/toronto_daily_weather_2015_2018.csv\")\n",
    "weather_df.head()"
   ]
  },
  {
   "cell_type": "code",
   "execution_count": 25,
   "metadata": {},
   "outputs": [
    {
     "data": {
      "text/plain": [
       "(1461, 13)"
      ]
     },
     "execution_count": 25,
     "metadata": {},
     "output_type": "execute_result"
    }
   ],
   "source": [
    "# How big is dataset\n",
    "weather_df.shape"
   ]
  },
  {
   "cell_type": "code",
   "execution_count": 26,
   "metadata": {},
   "outputs": [
    {
     "data": {
      "text/plain": [
       "36.0"
      ]
     },
     "execution_count": 26,
     "metadata": {},
     "output_type": "execute_result"
    }
   ],
   "source": [
    "# Max temp in Toronto\n",
    "weather_df[\"max_temperature\"].max()"
   ]
  },
  {
   "cell_type": "code",
   "execution_count": 27,
   "metadata": {},
   "outputs": [
    {
     "data": {
      "text/plain": [
       "-26.3"
      ]
     },
     "execution_count": 27,
     "metadata": {},
     "output_type": "execute_result"
    }
   ],
   "source": [
    "# Min temp in Toronto\n",
    "weather_df[\"min_temperature\"].min()"
   ]
  },
  {
   "cell_type": "code",
   "execution_count": 28,
   "metadata": {},
   "outputs": [
    {
     "data": {
      "text/plain": [
       "date                     0\n",
       "max_temperature          0\n",
       "min_temperature          0\n",
       "max_relative_humidity    0\n",
       "avg_relative_humidity    0\n",
       "avg_pressure_sea         0\n",
       "max_wind_speed           0\n",
       "precipitation            0\n",
       "rain                     0\n",
       "snow                     0\n",
       "snow_on_ground           0\n",
       "daylight                 0\n",
       "avg_cloud_cover_8        0\n",
       "dtype: int64"
      ]
     },
     "execution_count": 28,
     "metadata": {},
     "output_type": "execute_result"
    }
   ],
   "source": [
    "# How many blanks \n",
    "weather_df.isnull().sum()"
   ]
  },
  {
   "cell_type": "code",
   "execution_count": null,
   "metadata": {},
   "outputs": [],
   "source": []
  }
 ],
 "metadata": {
  "kernelspec": {
   "display_name": "mlenv",
   "language": "python",
   "name": "python3"
  },
  "language_info": {
   "codemirror_mode": {
    "name": "ipython",
    "version": 3
   },
   "file_extension": ".py",
   "mimetype": "text/x-python",
   "name": "python",
   "nbconvert_exporter": "python",
   "pygments_lexer": "ipython3",
   "version": "3.7.13"
  },
  "orig_nbformat": 4
 },
 "nbformat": 4,
 "nbformat_minor": 2
}
