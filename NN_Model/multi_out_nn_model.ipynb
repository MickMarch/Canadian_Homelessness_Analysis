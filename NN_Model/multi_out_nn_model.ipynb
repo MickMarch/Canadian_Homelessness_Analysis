{
 "cells": [
  {
   "cell_type": "code",
   "execution_count": null,
   "metadata": {},
   "outputs": [],
   "source": [
    "# Import dependencies\n",
    "import pandas as pd\n",
    "from pathlib import Path\n",
    "import tensorflow as tf"
   ]
  },
  {
   "cell_type": "code",
   "execution_count": null,
   "metadata": {},
   "outputs": [],
   "source": [
    "# Read in crime_weather data to be used for model\n",
    "df = pd.read_csv(Path(\"../cleaned_data_2015_2018/combined_data/crime_weather_data_2015_2018.csv\"))\n",
    "df"
   ]
  },
  {
   "cell_type": "code",
   "execution_count": null,
   "metadata": {},
   "outputs": [],
   "source": [
    "df.info()"
   ]
  },
  {
   "cell_type": "code",
   "execution_count": null,
   "metadata": {},
   "outputs": [],
   "source": [
    "# Convert date into Unix timestamp for NN model\n",
    "from datetime import datetime\n",
    "df['date'] = pd.to_datetime(df['date'])\n",
    "df['unix_timestamp'] = df['date'].astype(int) / 10**9\n",
    "df"
   ]
  },
  {
   "cell_type": "code",
   "execution_count": null,
   "metadata": {},
   "outputs": [],
   "source": [
    "# Remove date column\n",
    "df.drop(columns=[\"date\"], axis=1, inplace=True)\n",
    "df"
   ]
  },
  {
   "cell_type": "code",
   "execution_count": null,
   "metadata": {},
   "outputs": [],
   "source": [
    "# Encode the day of week column\n",
    "from sklearn.preprocessing import OneHotEncoder\n",
    "enc = OneHotEncoder(sparse=False)\n",
    "\n",
    "# Fit encoder and create dataframe\n",
    "encode_df = pd.DataFrame(enc.fit_transform(df['occ_dow'].values.reshape(-1,1)))\n",
    "\n",
    "# rename encoded columns\n",
    "encode_df.columns = enc.get_feature_names_out(['occ_dow'])\n",
    "encode_df"
   ]
  },
  {
   "cell_type": "code",
   "execution_count": null,
   "metadata": {},
   "outputs": [],
   "source": [
    "# Merge the 2 DataFrames together and drop the occ_down column\n",
    "df = df.merge(encode_df, left_index=True, right_index=True).drop(\"occ_dow\", axis=1)\n",
    "df"
   ]
  },
  {
   "cell_type": "code",
   "execution_count": null,
   "metadata": {},
   "outputs": [],
   "source": [
    "# Reorganize the dataframe to contain all features first and all intended features at the end\n",
    "\n",
    "df = df[['max_temperature', 'min_temperature', 'max_relative_humidity',\n",
    "       'avg_relative_humidity', 'avg_pressure_sea', 'max_wind_speed',\n",
    "       'precipitation', 'rain', 'snow', 'snow_on_ground', 'daylight',\n",
    "       'avg_cloud_cover_8', 'unix_timestamp',\n",
    "       'occ_dow_Monday', 'occ_dow_Tuesday',  'occ_dow_Wednesday', 'occ_dow_Thursday', \n",
    "       'occ_dow_Friday', 'occ_dow_Saturday', 'occ_dow_Sunday',\n",
    "       'assault_count', 'auto_theft_count','bicycle_theft_count', \n",
    "       'break_and_enter_count', 'homicide_count',\n",
    "       'robbery_count', 'shooting_count', 'theft_from_motor_vehicle_count',\n",
    "       'theft_over_count']]"
   ]
  }
 ],
 "metadata": {
  "kernelspec": {
   "display_name": "mlenv",
   "language": "python",
   "name": "python3"
  },
  "language_info": {
   "codemirror_mode": {
    "name": "ipython",
    "version": 3
   },
   "file_extension": ".py",
   "mimetype": "text/x-python",
   "name": "python",
   "nbconvert_exporter": "python",
   "pygments_lexer": "ipython3",
   "version": "3.7.13"
  },
  "orig_nbformat": 4
 },
 "nbformat": 4,
 "nbformat_minor": 2
}
