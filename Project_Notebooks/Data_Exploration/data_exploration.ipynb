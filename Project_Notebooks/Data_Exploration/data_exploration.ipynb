{
 "cells": [
  {
   "cell_type": "code",
   "execution_count": 1,
   "metadata": {},
   "outputs": [],
   "source": [
    "# Import dependencies\n",
    "import pandas as pd\n",
    "import matplotlib.pyplot as plt"
   ]
  },
  {
   "cell_type": "code",
   "execution_count": 2,
   "metadata": {},
   "outputs": [
    {
     "data": {
      "text/html": [
       "<div>\n",
       "<style scoped>\n",
       "    .dataframe tbody tr th:only-of-type {\n",
       "        vertical-align: middle;\n",
       "    }\n",
       "\n",
       "    .dataframe tbody tr th {\n",
       "        vertical-align: top;\n",
       "    }\n",
       "\n",
       "    .dataframe thead th {\n",
       "        text-align: right;\n",
       "    }\n",
       "</style>\n",
       "<table border=\"1\" class=\"dataframe\">\n",
       "  <thead>\n",
       "    <tr style=\"text-align: right;\">\n",
       "      <th></th>\n",
       "      <th>event_unique_id</th>\n",
       "      <th>crime</th>\n",
       "      <th>occ_year</th>\n",
       "      <th>occ_month</th>\n",
       "      <th>occ_day</th>\n",
       "      <th>occ_dow</th>\n",
       "      <th>occ_hour</th>\n",
       "      <th>premises_type</th>\n",
       "      <th>hood_140</th>\n",
       "      <th>neighbourhood_140</th>\n",
       "      <th>long_wgs84</th>\n",
       "      <th>lat_wgs84</th>\n",
       "      <th>date</th>\n",
       "    </tr>\n",
       "  </thead>\n",
       "  <tbody>\n",
       "    <tr>\n",
       "      <th>0</th>\n",
       "      <td>GO-20155154</td>\n",
       "      <td>assault</td>\n",
       "      <td>2015</td>\n",
       "      <td>January</td>\n",
       "      <td>1</td>\n",
       "      <td>Thursday</td>\n",
       "      <td>23</td>\n",
       "      <td>House</td>\n",
       "      <td>115</td>\n",
       "      <td>Mount Dennis (115)</td>\n",
       "      <td>-79.504668</td>\n",
       "      <td>43.693238</td>\n",
       "      <td>2015-01-01</td>\n",
       "    </tr>\n",
       "    <tr>\n",
       "      <th>1</th>\n",
       "      <td>GO-20151233</td>\n",
       "      <td>assault</td>\n",
       "      <td>2015</td>\n",
       "      <td>January</td>\n",
       "      <td>1</td>\n",
       "      <td>Thursday</td>\n",
       "      <td>3</td>\n",
       "      <td>Commercial</td>\n",
       "      <td>77</td>\n",
       "      <td>Waterfront Communities-The Island (77)</td>\n",
       "      <td>-79.392855</td>\n",
       "      <td>43.647315</td>\n",
       "      <td>2015-01-01</td>\n",
       "    </tr>\n",
       "    <tr>\n",
       "      <th>2</th>\n",
       "      <td>GO-2015862</td>\n",
       "      <td>assault</td>\n",
       "      <td>2015</td>\n",
       "      <td>January</td>\n",
       "      <td>1</td>\n",
       "      <td>Thursday</td>\n",
       "      <td>2</td>\n",
       "      <td>Commercial</td>\n",
       "      <td>77</td>\n",
       "      <td>Waterfront Communities-The Island (77)</td>\n",
       "      <td>-79.387700</td>\n",
       "      <td>43.649776</td>\n",
       "      <td>2015-01-01</td>\n",
       "    </tr>\n",
       "    <tr>\n",
       "      <th>3</th>\n",
       "      <td>GO-2015182</td>\n",
       "      <td>assault</td>\n",
       "      <td>2015</td>\n",
       "      <td>January</td>\n",
       "      <td>1</td>\n",
       "      <td>Thursday</td>\n",
       "      <td>0</td>\n",
       "      <td>Commercial</td>\n",
       "      <td>1</td>\n",
       "      <td>West Humber-Clairville (1)</td>\n",
       "      <td>-79.595562</td>\n",
       "      <td>43.686751</td>\n",
       "      <td>2015-01-01</td>\n",
       "    </tr>\n",
       "    <tr>\n",
       "      <th>4</th>\n",
       "      <td>GO-2015276</td>\n",
       "      <td>assault</td>\n",
       "      <td>2015</td>\n",
       "      <td>January</td>\n",
       "      <td>1</td>\n",
       "      <td>Thursday</td>\n",
       "      <td>0</td>\n",
       "      <td>Outside</td>\n",
       "      <td>77</td>\n",
       "      <td>Waterfront Communities-The Island (77)</td>\n",
       "      <td>-79.400096</td>\n",
       "      <td>43.645835</td>\n",
       "      <td>2015-01-01</td>\n",
       "    </tr>\n",
       "  </tbody>\n",
       "</table>\n",
       "</div>"
      ],
      "text/plain": [
       "  event_unique_id    crime  occ_year occ_month  occ_day   occ_dow  occ_hour  \\\n",
       "0     GO-20155154  assault      2015   January        1  Thursday        23   \n",
       "1     GO-20151233  assault      2015   January        1  Thursday         3   \n",
       "2      GO-2015862  assault      2015   January        1  Thursday         2   \n",
       "3      GO-2015182  assault      2015   January        1  Thursday         0   \n",
       "4      GO-2015276  assault      2015   January        1  Thursday         0   \n",
       "\n",
       "  premises_type hood_140                       neighbourhood_140  long_wgs84  \\\n",
       "0         House      115                      Mount Dennis (115)  -79.504668   \n",
       "1    Commercial       77  Waterfront Communities-The Island (77)  -79.392855   \n",
       "2    Commercial       77  Waterfront Communities-The Island (77)  -79.387700   \n",
       "3    Commercial        1              West Humber-Clairville (1)  -79.595562   \n",
       "4       Outside       77  Waterfront Communities-The Island (77)  -79.400096   \n",
       "\n",
       "   lat_wgs84        date  \n",
       "0  43.693238  2015-01-01  \n",
       "1  43.647315  2015-01-01  \n",
       "2  43.649776  2015-01-01  \n",
       "3  43.686751  2015-01-01  \n",
       "4  43.645835  2015-01-01  "
      ]
     },
     "execution_count": 2,
     "metadata": {},
     "output_type": "execute_result"
    }
   ],
   "source": [
    "# Load merged/cleaned dataset\n",
    "crime_df = pd.read_csv(\"../../Data/cleaned_data/cleaned_data_2015_2018/all_data_merged_cleaned_2015_2018.csv\")\n",
    "crime_df.head()"
   ]
  },
  {
   "cell_type": "code",
   "execution_count": 4,
   "metadata": {},
   "outputs": [
    {
     "data": {
      "text/plain": [
       "9"
      ]
     },
     "execution_count": 4,
     "metadata": {},
     "output_type": "execute_result"
    }
   ],
   "source": [
    "# How many different crime types in df? \n",
    "crime_df[\"crime\"].nunique()"
   ]
  },
  {
   "cell_type": "code",
   "execution_count": 5,
   "metadata": {},
   "outputs": [
    {
     "data": {
      "text/plain": [
       "event_unique_id        0\n",
       "crime                  0\n",
       "occ_year               0\n",
       "occ_month              0\n",
       "occ_day                0\n",
       "occ_dow                0\n",
       "occ_hour               0\n",
       "premises_type        382\n",
       "hood_140               0\n",
       "neighbourhood_140      0\n",
       "long_wgs84             0\n",
       "lat_wgs84              0\n",
       "date                   0\n",
       "dtype: int64"
      ]
     },
     "execution_count": 5,
     "metadata": {},
     "output_type": "execute_result"
    }
   ],
   "source": [
    "# Any null values in rows?\n",
    "crime_df.isnull().sum()"
   ]
  },
  {
   "cell_type": "code",
   "execution_count": 6,
   "metadata": {},
   "outputs": [
    {
     "data": {
      "text/html": [
       "<div>\n",
       "<style scoped>\n",
       "    .dataframe tbody tr th:only-of-type {\n",
       "        vertical-align: middle;\n",
       "    }\n",
       "\n",
       "    .dataframe tbody tr th {\n",
       "        vertical-align: top;\n",
       "    }\n",
       "\n",
       "    .dataframe thead th {\n",
       "        text-align: right;\n",
       "    }\n",
       "</style>\n",
       "<table border=\"1\" class=\"dataframe\">\n",
       "  <thead>\n",
       "    <tr style=\"text-align: right;\">\n",
       "      <th></th>\n",
       "      <th>event_unique_id</th>\n",
       "      <th>crime</th>\n",
       "      <th>occ_year</th>\n",
       "      <th>occ_month</th>\n",
       "      <th>occ_day</th>\n",
       "      <th>occ_dow</th>\n",
       "      <th>occ_hour</th>\n",
       "      <th>premises_type</th>\n",
       "      <th>hood_140</th>\n",
       "      <th>neighbourhood_140</th>\n",
       "      <th>long_wgs84</th>\n",
       "      <th>lat_wgs84</th>\n",
       "      <th>date</th>\n",
       "    </tr>\n",
       "  </thead>\n",
       "  <tbody>\n",
       "    <tr>\n",
       "      <th>116458</th>\n",
       "      <td>GO-201523884</td>\n",
       "      <td>shooting</td>\n",
       "      <td>2015</td>\n",
       "      <td>January</td>\n",
       "      <td>5</td>\n",
       "      <td>Monday</td>\n",
       "      <td>12</td>\n",
       "      <td>NaN</td>\n",
       "      <td>111</td>\n",
       "      <td>Rockcliffe-Smythe (111)</td>\n",
       "      <td>-79.482147</td>\n",
       "      <td>43.678077</td>\n",
       "      <td>2015-01-05</td>\n",
       "    </tr>\n",
       "    <tr>\n",
       "      <th>116459</th>\n",
       "      <td>GO-20151030866</td>\n",
       "      <td>shooting</td>\n",
       "      <td>2015</td>\n",
       "      <td>June</td>\n",
       "      <td>19</td>\n",
       "      <td>Friday</td>\n",
       "      <td>8</td>\n",
       "      <td>NaN</td>\n",
       "      <td>73</td>\n",
       "      <td>Moss Park (73)</td>\n",
       "      <td>-79.369685</td>\n",
       "      <td>43.659085</td>\n",
       "      <td>2015-06-19</td>\n",
       "    </tr>\n",
       "    <tr>\n",
       "      <th>116460</th>\n",
       "      <td>GO-2015124471</td>\n",
       "      <td>shooting</td>\n",
       "      <td>2015</td>\n",
       "      <td>January</td>\n",
       "      <td>22</td>\n",
       "      <td>Thursday</td>\n",
       "      <td>0</td>\n",
       "      <td>NaN</td>\n",
       "      <td>33</td>\n",
       "      <td>Clanton Park (33)</td>\n",
       "      <td>-79.436720</td>\n",
       "      <td>43.748257</td>\n",
       "      <td>2015-01-22</td>\n",
       "    </tr>\n",
       "    <tr>\n",
       "      <th>116461</th>\n",
       "      <td>GO-20151080890</td>\n",
       "      <td>shooting</td>\n",
       "      <td>2015</td>\n",
       "      <td>June</td>\n",
       "      <td>27</td>\n",
       "      <td>Saturday</td>\n",
       "      <td>0</td>\n",
       "      <td>NaN</td>\n",
       "      <td>17</td>\n",
       "      <td>Mimico (includes Humber Bay Shores) (17)</td>\n",
       "      <td>-79.487345</td>\n",
       "      <td>43.617274</td>\n",
       "      <td>2015-06-27</td>\n",
       "    </tr>\n",
       "    <tr>\n",
       "      <th>116462</th>\n",
       "      <td>GO-20151971722</td>\n",
       "      <td>shooting</td>\n",
       "      <td>2015</td>\n",
       "      <td>November</td>\n",
       "      <td>17</td>\n",
       "      <td>Tuesday</td>\n",
       "      <td>9</td>\n",
       "      <td>NaN</td>\n",
       "      <td>14</td>\n",
       "      <td>Islington-City Centre West (14)</td>\n",
       "      <td>-79.561473</td>\n",
       "      <td>43.647659</td>\n",
       "      <td>2015-11-17</td>\n",
       "    </tr>\n",
       "    <tr>\n",
       "      <th>...</th>\n",
       "      <td>...</td>\n",
       "      <td>...</td>\n",
       "      <td>...</td>\n",
       "      <td>...</td>\n",
       "      <td>...</td>\n",
       "      <td>...</td>\n",
       "      <td>...</td>\n",
       "      <td>...</td>\n",
       "      <td>...</td>\n",
       "      <td>...</td>\n",
       "      <td>...</td>\n",
       "      <td>...</td>\n",
       "      <td>...</td>\n",
       "    </tr>\n",
       "    <tr>\n",
       "      <th>166507</th>\n",
       "      <td>GO-20181887731</td>\n",
       "      <td>homicide</td>\n",
       "      <td>2018</td>\n",
       "      <td>October</td>\n",
       "      <td>12</td>\n",
       "      <td>Friday</td>\n",
       "      <td>0</td>\n",
       "      <td>NaN</td>\n",
       "      <td>75</td>\n",
       "      <td>Church-Yonge Corridor (75)</td>\n",
       "      <td>-79.376699</td>\n",
       "      <td>43.656958</td>\n",
       "      <td>2018-10-12</td>\n",
       "    </tr>\n",
       "    <tr>\n",
       "      <th>166508</th>\n",
       "      <td>GO-20181923388</td>\n",
       "      <td>homicide</td>\n",
       "      <td>2018</td>\n",
       "      <td>October</td>\n",
       "      <td>18</td>\n",
       "      <td>Thursday</td>\n",
       "      <td>0</td>\n",
       "      <td>NaN</td>\n",
       "      <td>120</td>\n",
       "      <td>Clairlea-Birchmount (120)</td>\n",
       "      <td>-79.286292</td>\n",
       "      <td>43.699070</td>\n",
       "      <td>2018-10-18</td>\n",
       "    </tr>\n",
       "    <tr>\n",
       "      <th>166509</th>\n",
       "      <td>GO-20181939006</td>\n",
       "      <td>homicide</td>\n",
       "      <td>2018</td>\n",
       "      <td>October</td>\n",
       "      <td>20</td>\n",
       "      <td>Saturday</td>\n",
       "      <td>0</td>\n",
       "      <td>NaN</td>\n",
       "      <td>124</td>\n",
       "      <td>Kennedy Park (124)</td>\n",
       "      <td>-79.264551</td>\n",
       "      <td>43.732765</td>\n",
       "      <td>2018-10-20</td>\n",
       "    </tr>\n",
       "    <tr>\n",
       "      <th>166510</th>\n",
       "      <td>GO-20182113063</td>\n",
       "      <td>homicide</td>\n",
       "      <td>2018</td>\n",
       "      <td>November</td>\n",
       "      <td>16</td>\n",
       "      <td>Friday</td>\n",
       "      <td>0</td>\n",
       "      <td>NaN</td>\n",
       "      <td>73</td>\n",
       "      <td>Moss Park (73)</td>\n",
       "      <td>-79.369005</td>\n",
       "      <td>43.654614</td>\n",
       "      <td>2018-11-16</td>\n",
       "    </tr>\n",
       "    <tr>\n",
       "      <th>166511</th>\n",
       "      <td>GO-20182242344</td>\n",
       "      <td>homicide</td>\n",
       "      <td>2018</td>\n",
       "      <td>December</td>\n",
       "      <td>6</td>\n",
       "      <td>Thursday</td>\n",
       "      <td>0</td>\n",
       "      <td>NaN</td>\n",
       "      <td>73</td>\n",
       "      <td>Moss Park (73)</td>\n",
       "      <td>-79.374451</td>\n",
       "      <td>43.660196</td>\n",
       "      <td>2018-12-06</td>\n",
       "    </tr>\n",
       "  </tbody>\n",
       "</table>\n",
       "<p>382 rows × 13 columns</p>\n",
       "</div>"
      ],
      "text/plain": [
       "       event_unique_id     crime  occ_year occ_month  occ_day   occ_dow  \\\n",
       "116458    GO-201523884  shooting      2015   January        5    Monday   \n",
       "116459  GO-20151030866  shooting      2015      June       19    Friday   \n",
       "116460   GO-2015124471  shooting      2015   January       22  Thursday   \n",
       "116461  GO-20151080890  shooting      2015      June       27  Saturday   \n",
       "116462  GO-20151971722  shooting      2015  November       17   Tuesday   \n",
       "...                ...       ...       ...       ...      ...       ...   \n",
       "166507  GO-20181887731  homicide      2018   October       12    Friday   \n",
       "166508  GO-20181923388  homicide      2018   October       18  Thursday   \n",
       "166509  GO-20181939006  homicide      2018   October       20  Saturday   \n",
       "166510  GO-20182113063  homicide      2018  November       16    Friday   \n",
       "166511  GO-20182242344  homicide      2018  December        6  Thursday   \n",
       "\n",
       "        occ_hour premises_type hood_140  \\\n",
       "116458        12           NaN      111   \n",
       "116459         8           NaN       73   \n",
       "116460         0           NaN       33   \n",
       "116461         0           NaN       17   \n",
       "116462         9           NaN       14   \n",
       "...          ...           ...      ...   \n",
       "166507         0           NaN       75   \n",
       "166508         0           NaN      120   \n",
       "166509         0           NaN      124   \n",
       "166510         0           NaN       73   \n",
       "166511         0           NaN       73   \n",
       "\n",
       "                               neighbourhood_140  long_wgs84  lat_wgs84  \\\n",
       "116458                   Rockcliffe-Smythe (111)  -79.482147  43.678077   \n",
       "116459                            Moss Park (73)  -79.369685  43.659085   \n",
       "116460                         Clanton Park (33)  -79.436720  43.748257   \n",
       "116461  Mimico (includes Humber Bay Shores) (17)  -79.487345  43.617274   \n",
       "116462           Islington-City Centre West (14)  -79.561473  43.647659   \n",
       "...                                          ...         ...        ...   \n",
       "166507                Church-Yonge Corridor (75)  -79.376699  43.656958   \n",
       "166508                 Clairlea-Birchmount (120)  -79.286292  43.699070   \n",
       "166509                        Kennedy Park (124)  -79.264551  43.732765   \n",
       "166510                            Moss Park (73)  -79.369005  43.654614   \n",
       "166511                            Moss Park (73)  -79.374451  43.660196   \n",
       "\n",
       "              date  \n",
       "116458  2015-01-05  \n",
       "116459  2015-06-19  \n",
       "116460  2015-01-22  \n",
       "116461  2015-06-27  \n",
       "116462  2015-11-17  \n",
       "...            ...  \n",
       "166507  2018-10-12  \n",
       "166508  2018-10-18  \n",
       "166509  2018-10-20  \n",
       "166510  2018-11-16  \n",
       "166511  2018-12-06  \n",
       "\n",
       "[382 rows x 13 columns]"
      ]
     },
     "execution_count": 6,
     "metadata": {},
     "output_type": "execute_result"
    }
   ],
   "source": [
    "# Look at PREMISES_TYPE column with null values\n",
    "crime_df[crime_df[\"premises_type\"].isna()]"
   ]
  },
  {
   "cell_type": "code",
   "execution_count": 7,
   "metadata": {},
   "outputs": [
    {
     "data": {
      "text/plain": [
       "(166512, 13)"
      ]
     },
     "execution_count": 7,
     "metadata": {},
     "output_type": "execute_result"
    }
   ],
   "source": [
    "# Look at overall shape of dataset\n",
    "# 1,811 null values out of 480,903 rows for PREMISES_TYPE\n",
    "crime_df.shape"
   ]
  },
  {
   "cell_type": "code",
   "execution_count": 8,
   "metadata": {},
   "outputs": [
    {
     "data": {
      "text/plain": [
       "'2015-01-01'"
      ]
     },
     "execution_count": 8,
     "metadata": {},
     "output_type": "execute_result"
    }
   ],
   "source": [
    "# Find date range of dataset\n",
    "crime_df[\"date\"].min()"
   ]
  },
  {
   "cell_type": "code",
   "execution_count": 9,
   "metadata": {},
   "outputs": [
    {
     "data": {
      "text/plain": [
       "'2018-12-31'"
      ]
     },
     "execution_count": 9,
     "metadata": {},
     "output_type": "execute_result"
    }
   ],
   "source": [
    "crime_df[\"date\"].max()"
   ]
  },
  {
   "cell_type": "code",
   "execution_count": 12,
   "metadata": {},
   "outputs": [
    {
     "data": {
      "text/plain": [
       "144"
      ]
     },
     "execution_count": 12,
     "metadata": {},
     "output_type": "execute_result"
    }
   ],
   "source": [
    "# How many different neighbourhoods in this dataset? \n",
    "crime_df[\"neighbourhood_140\"].nunique()"
   ]
  },
  {
   "cell_type": "code",
   "execution_count": 10,
   "metadata": {},
   "outputs": [
    {
     "data": {
      "text/plain": [
       "<AxesSubplot:>"
      ]
     },
     "execution_count": 10,
     "metadata": {},
     "output_type": "execute_result"
    },
    {
     "data": {
      "image/png": "[encoded data removed]",
      "text/plain": [
       "<Figure size 640x480 with 1 Axes>"
      ]
     },
     "metadata": {},
     "output_type": "display_data"
    }
   ],
   "source": [
    "# Nbr of crimes by year\n",
    "crime_df[\"occ_year\"].value_counts().plot(kind=\"barh\")"
   ]
  },
  {
   "cell_type": "code",
   "execution_count": 11,
   "metadata": {},
   "outputs": [
    {
     "data": {
      "text/plain": [
       "<AxesSubplot:>"
      ]
     },
     "execution_count": 11,
     "metadata": {},
     "output_type": "execute_result"
    },
    {
     "data": {
      "image/png": "[encoded data removed]",
      "text/plain": [
       "<Figure size 640x480 with 1 Axes>"
      ]
     },
     "metadata": {},
     "output_type": "display_data"
    }
   ],
   "source": [
    "# Nbr of crimes per month (across all years)\n",
    "crime_df[\"occ_month\"].value_counts().plot(kind=\"barh\")\n"
   ]
  },
  {
   "cell_type": "code",
   "execution_count": 12,
   "metadata": {},
   "outputs": [
    {
     "data": {
      "text/plain": [
       "assault                     64313\n",
       "theft_from_motor_vehicle    33881\n",
       "break_and_enter             27086\n",
       "auto_theft                  13781\n",
       "bicycle_theft               12448\n",
       "robbery                     11278\n",
       "theft_over                   3343\n",
       "shooting                      269\n",
       "homicide                      113\n",
       "Name: crime, dtype: int64"
      ]
     },
     "execution_count": 12,
     "metadata": {},
     "output_type": "execute_result"
    }
   ],
   "source": [
    "crime_counts = crime_df[\"crime\"].value_counts()\n",
    "crime_counts"
   ]
  },
  {
   "cell_type": "code",
   "execution_count": 13,
   "metadata": {},
   "outputs": [],
   "source": [
    "labels = [\"traffic_collision\", \"assault\", \"theft_from_motor_vehicle\", \"break_and_enter\", \"robbery\", \"auto_theft\", \"bicycle_theft\", \"theft_over\", \"shooting\", \"homicide\"]"
   ]
  },
  {
   "cell_type": "code",
   "execution_count": null,
   "metadata": {},
   "outputs": [],
   "source": [
    "# Pie chart of nbr of crimes by type \n",
    "plt.pie(crime_df[\"crime\"].value_counts(), labels = labels, textprops={'fontsize': 8}, autopct='%1.1f%%')\n",
    "plt.show()\n",
    "\n",
    "# Consider removing traffic collisions? Obvious that they will be influenced by weather. \n",
    "# Original dataset had traffic collisions, it has now been removed"
   ]
  },
  {
   "cell_type": "code",
   "execution_count": 16,
   "metadata": {},
   "outputs": [
    {
     "data": {
      "text/html": [
       "<div>\n",
       "<style scoped>\n",
       "    .dataframe tbody tr th:only-of-type {\n",
       "        vertical-align: middle;\n",
       "    }\n",
       "\n",
       "    .dataframe tbody tr th {\n",
       "        vertical-align: top;\n",
       "    }\n",
       "\n",
       "    .dataframe thead th {\n",
       "        text-align: right;\n",
       "    }\n",
       "</style>\n",
       "<table border=\"1\" class=\"dataframe\">\n",
       "  <thead>\n",
       "    <tr style=\"text-align: right;\">\n",
       "      <th></th>\n",
       "      <th>date</th>\n",
       "      <th>max_temperature</th>\n",
       "      <th>min_temperature</th>\n",
       "      <th>max_relative_humidity</th>\n",
       "      <th>avg_relative_humidity</th>\n",
       "      <th>avg_pressure_sea</th>\n",
       "      <th>max_wind_speed</th>\n",
       "      <th>precipitation</th>\n",
       "      <th>rain</th>\n",
       "      <th>snow</th>\n",
       "      <th>snow_on_ground</th>\n",
       "      <th>daylight</th>\n",
       "      <th>avg_cloud_cover_8</th>\n",
       "    </tr>\n",
       "  </thead>\n",
       "  <tbody>\n",
       "    <tr>\n",
       "      <th>0</th>\n",
       "      <td>2018-12-31</td>\n",
       "      <td>5.0</td>\n",
       "      <td>-2.5</td>\n",
       "      <td>94</td>\n",
       "      <td>79.5</td>\n",
       "      <td>100.78</td>\n",
       "      <td>21</td>\n",
       "      <td>13.6</td>\n",
       "      <td>13.6</td>\n",
       "      <td>0.0</td>\n",
       "      <td>0.0</td>\n",
       "      <td>8.98</td>\n",
       "      <td>4.5</td>\n",
       "    </tr>\n",
       "    <tr>\n",
       "      <th>1</th>\n",
       "      <td>2018-12-30</td>\n",
       "      <td>0.7</td>\n",
       "      <td>-6.6</td>\n",
       "      <td>88</td>\n",
       "      <td>78.0</td>\n",
       "      <td>102.03</td>\n",
       "      <td>24</td>\n",
       "      <td>1.2</td>\n",
       "      <td>0.0</td>\n",
       "      <td>1.6</td>\n",
       "      <td>2.0</td>\n",
       "      <td>8.97</td>\n",
       "      <td>5.0</td>\n",
       "    </tr>\n",
       "    <tr>\n",
       "      <th>2</th>\n",
       "      <td>2018-12-29</td>\n",
       "      <td>2.7</td>\n",
       "      <td>-7.0</td>\n",
       "      <td>80</td>\n",
       "      <td>68.0</td>\n",
       "      <td>101.86</td>\n",
       "      <td>34</td>\n",
       "      <td>0.0</td>\n",
       "      <td>0.0</td>\n",
       "      <td>0.0</td>\n",
       "      <td>0.0</td>\n",
       "      <td>8.95</td>\n",
       "      <td>4.5</td>\n",
       "    </tr>\n",
       "    <tr>\n",
       "      <th>3</th>\n",
       "      <td>2018-12-28</td>\n",
       "      <td>12.4</td>\n",
       "      <td>2.7</td>\n",
       "      <td>95</td>\n",
       "      <td>84.5</td>\n",
       "      <td>100.89</td>\n",
       "      <td>30</td>\n",
       "      <td>1.8</td>\n",
       "      <td>1.8</td>\n",
       "      <td>0.0</td>\n",
       "      <td>0.0</td>\n",
       "      <td>8.93</td>\n",
       "      <td>4.5</td>\n",
       "    </tr>\n",
       "    <tr>\n",
       "      <th>4</th>\n",
       "      <td>2018-12-27</td>\n",
       "      <td>2.8</td>\n",
       "      <td>-7.4</td>\n",
       "      <td>87</td>\n",
       "      <td>74.0</td>\n",
       "      <td>102.52</td>\n",
       "      <td>30</td>\n",
       "      <td>5.4</td>\n",
       "      <td>5.4</td>\n",
       "      <td>0.0</td>\n",
       "      <td>0.0</td>\n",
       "      <td>8.93</td>\n",
       "      <td>4.0</td>\n",
       "    </tr>\n",
       "  </tbody>\n",
       "</table>\n",
       "</div>"
      ],
      "text/plain": [
       "         date  max_temperature  min_temperature  max_relative_humidity  \\\n",
       "0  2018-12-31              5.0             -2.5                     94   \n",
       "1  2018-12-30              0.7             -6.6                     88   \n",
       "2  2018-12-29              2.7             -7.0                     80   \n",
       "3  2018-12-28             12.4              2.7                     95   \n",
       "4  2018-12-27              2.8             -7.4                     87   \n",
       "\n",
       "   avg_relative_humidity  avg_pressure_sea  max_wind_speed  precipitation  \\\n",
       "0                   79.5            100.78              21           13.6   \n",
       "1                   78.0            102.03              24            1.2   \n",
       "2                   68.0            101.86              34            0.0   \n",
       "3                   84.5            100.89              30            1.8   \n",
       "4                   74.0            102.52              30            5.4   \n",
       "\n",
       "   rain  snow  snow_on_ground  daylight  avg_cloud_cover_8  \n",
       "0  13.6   0.0             0.0      8.98                4.5  \n",
       "1   0.0   1.6             2.0      8.97                5.0  \n",
       "2   0.0   0.0             0.0      8.95                4.5  \n",
       "3   1.8   0.0             0.0      8.93                4.5  \n",
       "4   5.4   0.0             0.0      8.93                4.0  "
      ]
     },
     "execution_count": 16,
     "metadata": {},
     "output_type": "execute_result"
    }
   ],
   "source": [
    "# Explore weather data \n",
    "weather_df = pd.read_csv(\"../../Data/cleaned_data/cleaned_data_2015_2018/toronto_daily_weather_2015_2018.csv\")\n",
    "weather_df.head()"
   ]
  },
  {
   "cell_type": "code",
   "execution_count": 17,
   "metadata": {},
   "outputs": [
    {
     "data": {
      "text/plain": [
       "(1461, 13)"
      ]
     },
     "execution_count": 17,
     "metadata": {},
     "output_type": "execute_result"
    }
   ],
   "source": [
    "# How big is dataset\n",
    "weather_df.shape"
   ]
  },
  {
   "cell_type": "code",
   "execution_count": 18,
   "metadata": {},
   "outputs": [
    {
     "data": {
      "text/plain": [
       "36.0"
      ]
     },
     "execution_count": 18,
     "metadata": {},
     "output_type": "execute_result"
    }
   ],
   "source": [
    "# Max temp in Toronto\n",
    "weather_df[\"max_temperature\"].max()"
   ]
  },
  {
   "cell_type": "code",
   "execution_count": 19,
   "metadata": {},
   "outputs": [
    {
     "data": {
      "text/plain": [
       "-26.3"
      ]
     },
     "execution_count": 19,
     "metadata": {},
     "output_type": "execute_result"
    }
   ],
   "source": [
    "# Min temp in Toronto\n",
    "weather_df[\"min_temperature\"].min()"
   ]
  },
  {
   "cell_type": "code",
   "execution_count": 20,
   "metadata": {},
   "outputs": [
    {
     "data": {
      "text/plain": [
       "date                     0\n",
       "max_temperature          0\n",
       "min_temperature          0\n",
       "max_relative_humidity    0\n",
       "avg_relative_humidity    0\n",
       "avg_pressure_sea         0\n",
       "max_wind_speed           0\n",
       "precipitation            0\n",
       "rain                     0\n",
       "snow                     0\n",
       "snow_on_ground           0\n",
       "daylight                 0\n",
       "avg_cloud_cover_8        0\n",
       "dtype: int64"
      ]
     },
     "execution_count": 20,
     "metadata": {},
     "output_type": "execute_result"
    }
   ],
   "source": [
    "# How many blanks \n",
    "weather_df.isnull().sum()"
   ]
  }
 ],
 "metadata": {
  "kernelspec": {
   "display_name": "mlenv",
   "language": "python",
   "name": "python3"
  },
  "language_info": {
   "codemirror_mode": {
    "name": "ipython",
    "version": 3
   },
   "file_extension": ".py",
   "mimetype": "text/x-python",
   "name": "python",
   "nbconvert_exporter": "python",
   "pygments_lexer": "ipython3",
   "version": "3.7.13"
  },
  "orig_nbformat": 4
 },
 "nbformat": 4,
 "nbformat_minor": 2
}
