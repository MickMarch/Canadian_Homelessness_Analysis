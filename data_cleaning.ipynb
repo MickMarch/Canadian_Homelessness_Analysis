{
 "cells": [
  {
   "attachments": {},
   "cell_type": "markdown",
   "metadata": {},
   "source": [
    "# Data Cleaning\n",
    "\n",
    " The cleaning process of this data is meant specifically for Toronto Crimes Data. A class was made to get all the different crime types to conform to a single dataframe structure."
   ]
  },
  {
   "cell_type": "code",
   "execution_count": 1,
   "metadata": {},
   "outputs": [],
   "source": [
    "from project_tools.dataframe_tools import TorontoCrimeDataCleaner\n",
    "from pathlib import Path"
   ]
  },
  {
   "cell_type": "code",
   "execution_count": 2,
   "metadata": {},
   "outputs": [],
   "source": [
    "# Create dictionary that contains the crime types and paths to each crime dataset to be analyzed\n",
    "\n",
    "crimes_dict = {\n",
    "    \"assault\": Path(\"./datasets/Assault_Open_Data.csv\"),\n",
    "    \"auto_theft\": Path(\"./datasets/Auto_Theft_Open_Data.csv\"),\n",
    "    \"break_and_enter\": Path(\"./datasets/Break_and_Enter_Open_Data.csv\"),\n",
    "    \"robbery\": Path(\"./datasets/Robbery_Open_Data.csv\"),\n",
    "    \"shooting\": Path(\"./datasets/Shooting_and_Firearm_Discharges_Open_Data.csv\"),\n",
    "    \"theft_from_motor_vehicle\": Path(\"./datasets/Theft_From_Motor_Vehicle_Open_Data.csv\"),\n",
    "    \"theft_over\": Path(\"./datasets/Theft_Over_Open_Data.csv\"),\n",
    "    \"traffic_collision\": Path(\"./datasets/Traffic_Collisions_(ASR-T-TBL-001).csv\"),\n",
    "    \"bicycle_theft\": Path(\"./datasets/Bicycle_Thefts_Open_Data.csv\"),\n",
    "    \"homicide\": Path(\"./datasets/Homicides_Open_Data_ASR_RC_TBL_002.csv\")\n",
    "}\n",
    "        "
   ]
  },
  {
   "cell_type": "code",
   "execution_count": 3,
   "metadata": {},
   "outputs": [],
   "source": [
    "# Create TorontoCrimeDataCleaner class object, with the min and max date ranges passed as arguments\n",
    "min_year = 2015\n",
    "max_year = 2018\n",
    "\n",
    "toronto_data_cleaner = TorontoCrimeDataCleaner(min_year=min_year, max_year=max_year)"
   ]
  },
  {
   "cell_type": "code",
   "execution_count": 4,
   "metadata": {},
   "outputs": [
    {
     "name": "stdout",
     "output_type": "stream",
     "text": [
      "\"datasets/Assault_Open_Data.csv\" exists\n",
      "\"datasets/Auto_Theft_Open_Data.csv\" exists\n",
      "\"datasets/Break_and_Enter_Open_Data.csv\" exists\n",
      "\"datasets/Robbery_Open_Data.csv\" exists\n",
      "\"datasets/Shooting_and_Firearm_Discharges_Open_Data.csv\" exists\n",
      "\"datasets/Theft_From_Motor_Vehicle_Open_Data.csv\" exists\n",
      "\"datasets/Theft_Over_Open_Data.csv\" exists\n",
      "\"datasets/Traffic_Collisions_(ASR-T-TBL-001).csv\" exists\n",
      "\"datasets/Bicycle_Thefts_Open_Data.csv\" exists\n",
      "\"datasets/Homicides_Open_Data_ASR_RC_TBL_002.csv\" exists\n",
      "--------------------------\n",
      "Adding \"assault\" data from filepath \"datasets/Assault_Open_Data.csv\" to new DataFrame\n",
      "Successfully loaded CSV to Pandas Dataframe\n",
      "Starting to clean the data...\n",
      "Normalizing column data...\n",
      "Converting appropriate date data to integers...\n",
      "Starting to clear whitespaces from object columns...\n",
      "Filtering years from 2015 to 2018...\n",
      "Creating 'OCC_DATETIME' column out of date columns...\n",
      "Successfully cleaned data!\n",
      "Successfully added \"assault\" data from filepath \"datasets/Assault_Open_Data.csv\" to new DataFrame!\n",
      "--------------------------\n",
      "--------------------------\n",
      "Adding \"auto_theft\" data from filepath \"datasets/Auto_Theft_Open_Data.csv\" to new DataFrame\n",
      "Successfully loaded CSV to Pandas Dataframe\n",
      "Starting to clean the data...\n",
      "Normalizing column data...\n",
      "Converting appropriate date data to integers...\n",
      "Starting to clear whitespaces from object columns...\n",
      "Filtering years from 2015 to 2018...\n",
      "Creating 'OCC_DATETIME' column out of date columns...\n",
      "Successfully cleaned data!\n",
      "Successfully added \"auto_theft\" data from filepath \"datasets/Auto_Theft_Open_Data.csv\" to new DataFrame!\n",
      "--------------------------\n",
      "--------------------------\n",
      "Adding \"break_and_enter\" data from filepath \"datasets/Break_and_Enter_Open_Data.csv\" to new DataFrame\n",
      "Successfully loaded CSV to Pandas Dataframe\n",
      "Starting to clean the data...\n",
      "Normalizing column data...\n",
      "Converting appropriate date data to integers...\n",
      "Starting to clear whitespaces from object columns...\n",
      "Filtering years from 2015 to 2018...\n",
      "Creating 'OCC_DATETIME' column out of date columns...\n",
      "Successfully cleaned data!\n",
      "Successfully added \"break_and_enter\" data from filepath \"datasets/Break_and_Enter_Open_Data.csv\" to new DataFrame!\n",
      "--------------------------\n",
      "--------------------------\n",
      "Adding \"robbery\" data from filepath \"datasets/Robbery_Open_Data.csv\" to new DataFrame\n",
      "Successfully loaded CSV to Pandas Dataframe\n",
      "Starting to clean the data...\n",
      "Normalizing column data...\n",
      "Converting appropriate date data to integers...\n",
      "Starting to clear whitespaces from object columns...\n",
      "Filtering years from 2015 to 2018...\n",
      "Creating 'OCC_DATETIME' column out of date columns...\n",
      "Successfully cleaned data!\n",
      "Successfully added \"robbery\" data from filepath \"datasets/Robbery_Open_Data.csv\" to new DataFrame!\n",
      "--------------------------\n",
      "--------------------------\n",
      "Adding \"shooting\" data from filepath \"datasets/Shooting_and_Firearm_Discharges_Open_Data.csv\" to new DataFrame\n",
      "Successfully loaded CSV to Pandas Dataframe\n",
      "Starting to clean the data...\n",
      "Normalizing column data...\n",
      "Converting appropriate date data to integers...\n",
      "Starting to clear whitespaces from object columns...\n",
      "Filtering years from 2015 to 2018...\n",
      "Creating 'OCC_DATETIME' column out of date columns...\n",
      "Successfully cleaned data!\n",
      "Successfully added \"shooting\" data from filepath \"datasets/Shooting_and_Firearm_Discharges_Open_Data.csv\" to new DataFrame!\n",
      "--------------------------\n",
      "--------------------------\n",
      "Adding \"theft_from_motor_vehicle\" data from filepath \"datasets/Theft_From_Motor_Vehicle_Open_Data.csv\" to new DataFrame\n",
      "Successfully loaded CSV to Pandas Dataframe\n",
      "Starting to clean the data...\n",
      "Normalizing column data...\n",
      "Converting appropriate date data to integers...\n",
      "Starting to clear whitespaces from object columns...\n",
      "Filtering years from 2015 to 2018...\n",
      "Creating 'OCC_DATETIME' column out of date columns...\n",
      "Successfully cleaned data!\n",
      "Successfully added \"theft_from_motor_vehicle\" data from filepath \"datasets/Theft_From_Motor_Vehicle_Open_Data.csv\" to new DataFrame!\n",
      "--------------------------\n",
      "--------------------------\n",
      "Adding \"theft_over\" data from filepath \"datasets/Theft_Over_Open_Data.csv\" to new DataFrame\n",
      "Successfully loaded CSV to Pandas Dataframe\n",
      "Starting to clean the data...\n",
      "Normalizing column data...\n",
      "Converting appropriate date data to integers...\n",
      "Starting to clear whitespaces from object columns...\n",
      "Filtering years from 2015 to 2018...\n",
      "Creating 'OCC_DATETIME' column out of date columns...\n",
      "Successfully cleaned data!\n",
      "Successfully added \"theft_over\" data from filepath \"datasets/Theft_Over_Open_Data.csv\" to new DataFrame!\n",
      "--------------------------\n",
      "--------------------------\n",
      "Adding \"traffic_collision\" data from filepath \"datasets/Traffic_Collisions_(ASR-T-TBL-001).csv\" to new DataFrame\n",
      "Successfully loaded CSV to Pandas Dataframe\n",
      "Starting to clean the data...\n",
      "Special column reformatting initiated for 'traffic_collision' crime type. \n",
      "Normalizing column data...\n",
      "Converting appropriate date data to integers...\n",
      "Starting to clear whitespaces from object columns...\n",
      "Filtering years from 2015 to 2018...\n",
      "Creating 'OCC_DATETIME' column out of date columns...\n",
      "Successfully cleaned data!\n",
      "Successfully added \"traffic_collision\" data from filepath \"datasets/Traffic_Collisions_(ASR-T-TBL-001).csv\" to new DataFrame!\n",
      "--------------------------\n",
      "--------------------------\n",
      "Adding \"bicycle_theft\" data from filepath \"datasets/Bicycle_Thefts_Open_Data.csv\" to new DataFrame\n",
      "Successfully loaded CSV to Pandas Dataframe\n",
      "Starting to clean the data...\n",
      "Normalizing column data...\n",
      "Converting appropriate date data to integers...\n",
      "Starting to clear whitespaces from object columns...\n",
      "Filtering years from 2015 to 2018...\n",
      "Creating 'OCC_DATETIME' column out of date columns...\n",
      "Successfully cleaned data!\n",
      "Successfully added \"bicycle_theft\" data from filepath \"datasets/Bicycle_Thefts_Open_Data.csv\" to new DataFrame!\n",
      "--------------------------\n",
      "--------------------------\n",
      "Adding \"homicide\" data from filepath \"datasets/Homicides_Open_Data_ASR_RC_TBL_002.csv\" to new DataFrame\n",
      "Successfully loaded CSV to Pandas Dataframe\n",
      "Starting to clean the data...\n",
      "Normalizing column data...\n",
      "Converting appropriate date data to integers...\n",
      "Starting to clear whitespaces from object columns...\n",
      "Filtering years from 2015 to 2018...\n",
      "Creating 'OCC_DATETIME' column out of date columns...\n",
      "Successfully cleaned data!\n",
      "Successfully added \"homicide\" data from filepath \"datasets/Homicides_Open_Data_ASR_RC_TBL_002.csv\" to new DataFrame!\n",
      "--------------------------\n",
      "Successfully created the dataframe: ['assault', 'auto_theft', 'break_and_enter', 'robbery', 'shooting', 'theft_from_motor_vehicle', 'theft_over', 'traffic_collision', 'bicycle_theft', 'homicide']\n",
      "Failed to create the dataframes: []\n"
     ]
    }
   ],
   "source": [
    "# Add crimes_dict to TorontoCrimeDataCleaner class object to create and normalize the dataframes\n",
    "\n",
    "toronto_data_cleaner.csv_dict_to_dataframes(crimes_dict)"
   ]
  },
  {
   "cell_type": "code",
   "execution_count": 5,
   "metadata": {},
   "outputs": [],
   "source": [
    "# Use the merge function from the TorontoCrimeDataCleaner class object to create one Dataframe\n",
    "all_data_cleaned_df = toronto_data_cleaner.merge_all_dataframes()"
   ]
  },
  {
   "cell_type": "code",
   "execution_count": 6,
   "metadata": {},
   "outputs": [
    {
     "name": "stdout",
     "output_type": "stream",
     "text": [
      "Successfully saved Assault_Open_Data_cleaned_2015_2018.csv!\n",
      "Successfully saved Auto_Theft_Open_Data_cleaned_2015_2018.csv!\n",
      "Successfully saved Break_and_Enter_Open_Data_cleaned_2015_2018.csv!\n",
      "Successfully saved Robbery_Open_Data_cleaned_2015_2018.csv!\n",
      "Successfully saved Shooting_and_Firearm_Discharges_Open_Data_cleaned_2015_2018.csv!\n",
      "Successfully saved Theft_From_Motor_Vehicle_Open_Data_cleaned_2015_2018.csv!\n",
      "Successfully saved Theft_Over_Open_Data_cleaned_2015_2018.csv!\n",
      "Successfully saved Traffic_Collisions_(ASR-T-TBL-001)_cleaned_2015_2018.csv!\n",
      "Successfully saved Bicycle_Thefts_Open_Data_cleaned_2015_2018.csv!\n",
      "Successfully saved Homicides_Open_Data_ASR_RC_TBL_002_cleaned_2015_2018.csv!\n",
      "Successfully saved all_data_merged_cleaned_2015_2018.csv!\n"
     ]
    }
   ],
   "source": [
    "# Use the export function to save all the cleaned data to CSV\n",
    "toronto_data_cleaner.export_all_cleaned()"
   ]
  },
  {
   "cell_type": "code",
   "execution_count": null,
   "metadata": {},
   "outputs": [],
   "source": []
  }
 ],
 "metadata": {
  "kernelspec": {
   "display_name": "mlenv",
   "language": "python",
   "name": "python3"
  },
  "language_info": {
   "codemirror_mode": {
    "name": "ipython",
    "version": 3
   },
   "file_extension": ".py",
   "mimetype": "text/x-python",
   "name": "python",
   "nbconvert_exporter": "python",
   "pygments_lexer": "ipython3",
   "version": "3.7.13"
  },
  "orig_nbformat": 4
 },
 "nbformat": 4,
 "nbformat_minor": 2
}
